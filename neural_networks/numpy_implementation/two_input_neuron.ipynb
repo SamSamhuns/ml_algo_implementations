{
 "cells": [
  {
   "cell_type": "code",
   "execution_count": 2,
   "metadata": {},
   "outputs": [
    {
     "data": {
      "text/plain": [
       "0.999999694097773"
      ]
     },
     "execution_count": 2,
     "metadata": {},
     "output_type": "execute_result"
    }
   ],
   "source": [
    "import numpy as np\n",
    "\n",
    "def sigmoid(x):\n",
    "    # Activation function: sigmoid function 1 / (1+e^(-x))\n",
    "    return 1 / (1 + np.exp(-x))\n",
    "\n",
    "class Neuron:\n",
    "    def __init__(self, weights, bias):\n",
    "        self.weights = weights\n",
    "        self.bias = bias\n",
    "        \n",
    "    def feedforward(self, inputs):\n",
    "        # Running the calculated inputs through the sigmoid function\n",
    "        sig_input = np.dot(self.weights, inputs) + self.bias\n",
    "        return sigmoid(sig_input)\n",
    "    \n",
    "weights = np.array([3,4,0,2,4])\n",
    "bias = -6\n",
    "inputs = np.array([1,3,2,1,1])\n",
    "\n",
    "n1 = Neuron(weights, bias)\n",
    "n1.feedforward(inputs)"
   ]
  }
 ],
 "metadata": {
  "kernelspec": {
   "display_name": "Python 3",
   "language": "python",
   "name": "python3"
  },
  "language_info": {
   "codemirror_mode": {
    "name": "ipython",
    "version": 3
   },
   "file_extension": ".py",
   "mimetype": "text/x-python",
   "name": "python",
   "nbconvert_exporter": "python",
   "pygments_lexer": "ipython3",
   "version": "3.6.5"
  }
 },
 "nbformat": 4,
 "nbformat_minor": 2
}

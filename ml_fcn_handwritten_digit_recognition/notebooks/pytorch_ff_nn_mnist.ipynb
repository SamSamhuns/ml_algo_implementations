{
 "cells": [
  {
   "cell_type": "markdown",
   "metadata": {},
   "source": [
    "# General Pipeline of a NN PyTorch Project\n",
    "\n",
    "### Create Variables\n",
    "\n",
    "Inputs\n",
    "\n",
    "### Establish Networks (Funcs with variables)\n",
    "\n",
    "Outputs\n",
    "\n",
    "### Define Loss\n",
    "\n",
    "Loss = Target - Outputs\n",
    "\n",
    "### Calculate gradient to backpropagate Loss (Done by PyTorch)\n",
    "\n",
    "gradient\n",
    "\n",
    "### Update Weights with SGD or BGD"
   ]
  },
  {
   "cell_type": "code",
   "execution_count": 1,
   "metadata": {},
   "outputs": [
    {
     "data": {
      "text/plain": [
       "'N, D = 3, 4\\n\\nx = Variable(torch.randn(N, D).cuda(), requires_grad=True)\\ny = Variable(torch.randn(N, D).cuda(), requires_grad=True)\\nz = Variable(torch.randn(N, D).cuda(), requires_grad=True)\\n\\na = x * y\\nb = a + z\\nc = torch.sum(b)\\n\\nc.backward()\\nprint(x.grad.data)\\nprint(y.grad.data)\\nprint(z.grad.data)'"
      ]
     },
     "execution_count": 1,
     "metadata": {},
     "output_type": "execute_result"
    }
   ],
   "source": [
    "\"\"\"N, D = 3, 4\n",
    "\n",
    "x = Variable(torch.randn(N, D).cuda(), requires_grad=True)\n",
    "y = Variable(torch.randn(N, D).cuda(), requires_grad=True)\n",
    "z = Variable(torch.randn(N, D).cuda(), requires_grad=True)\n",
    "\n",
    "a = x * y\n",
    "b = a + z\n",
    "c = torch.sum(b)\n",
    "\n",
    "c.backward()\n",
    "print(x.grad.data)\n",
    "print(y.grad.data)\n",
    "print(z.grad.data)\"\"\""
   ]
  },
  {
   "cell_type": "markdown",
   "metadata": {},
   "source": [
    "    1. Understand data with EDA (torch.utils.data.Datatset)\n",
    "\n",
    "    2. Implement model correctly (torch.nn)\n",
    "\n",
    "    3. Design Task specific Loss function (torch.nn), optimizer (torch.optim)\n",
    "\n",
    "    4. Training\n",
    "\n",
    "    4. Evaluation\n",
    "\n",
    "### For monitoring progress\n",
    "\n",
    "Tensorboardx\n",
    "\n",
    "lear.ai\n",
    "\n",
    "\n",
    "### Error Analysis and visualization\n",
    "\n",
    "Plot intermediate feature maps\n",
    "\n",
    "What if our network is not performing well for certain classes (Class imbalance problem)\n",
    "\n",
    "Solution: Give larger weights to class that perform poorly"
   ]
  },
  {
   "cell_type": "markdown",
   "metadata": {},
   "source": [
    "# Implementation of a simple Neural Network in Pytorch without using torch.autograd"
   ]
  },
  {
   "cell_type": "code",
   "execution_count": 2,
   "metadata": {},
   "outputs": [],
   "source": [
    "import torch\n",
    "import numpy as np\n",
    "import torch.nn as nn\n",
    "\n",
    "import matplotlib.pyplot as plt\n",
    "from sklearn.datasets import load_digits\n",
    "from sklearn.metrics import accuracy_score\n",
    "\n",
    "from torchvision import datasets, transforms\n",
    "from torch.utils.data.dataset import Dataset\n",
    "from torch.utils.data.sampler import SubsetRandomSampler"
   ]
  },
  {
   "cell_type": "code",
   "execution_count": 3,
   "metadata": {
    "code_folding": []
   },
   "outputs": [],
   "source": [
    "class MNISTDataset(Dataset):\n",
    "\n",
    "    def __init__(self, data, transform=None):\n",
    "        \"\"\"\n",
    "        data should be a X,y tuple matrix\n",
    "        \"\"\"\n",
    "        self.X, self.y = data\n",
    "        self.X = torch.tensor(self.X, dtype=torch.float)\n",
    "\n",
    "        # Normalize data\n",
    "        mean = self.X.mean(0)\n",
    "        std = self.X.std(0)\n",
    "        std[std == 0] = 1.\n",
    "        self.X -= mean\n",
    "        self.X /= std\n",
    "\n",
    "        self.transform = transform\n",
    "\n",
    "    def __len__(self):\n",
    "        return len(self.X)\n",
    "\n",
    "    def __getitem__(self, index):\n",
    "        \"\"\"\n",
    "        Returns one data sample (X[index,:]) and its label (y[index])\n",
    "        \"\"\"\n",
    "        return self.X[index, :], self.y[index]"
   ]
  },
  {
   "cell_type": "markdown",
   "metadata": {},
   "source": [
    "## Neural Network hyperparameters"
   ]
  },
  {
   "cell_type": "code",
   "execution_count": 4,
   "metadata": {},
   "outputs": [],
   "source": [
    "batch_size = 100\n",
    "random_seed= 42\n",
    "test_split = .1\n",
    "validation_split = .2\n",
    "shuffle_dataset = True"
   ]
  },
  {
   "cell_type": "markdown",
   "metadata": {},
   "source": [
    "## Loading our dataset"
   ]
  },
  {
   "cell_type": "code",
   "execution_count": 5,
   "metadata": {},
   "outputs": [],
   "source": [
    "# download training data from sklearn.datasets\n",
    "mnist_data = MNISTDataset(load_digits(return_X_y=True))"
   ]
  },
  {
   "cell_type": "markdown",
   "metadata": {},
   "source": [
    "## Creating splits for train, validation, and test"
   ]
  },
  {
   "cell_type": "code",
   "execution_count": 6,
   "metadata": {},
   "outputs": [],
   "source": [
    "dataset_size = len(mnist_data)\n",
    "indices = list(range(dataset_size))\n",
    "val_split_idx = int(np.floor(validation_split * dataset_size))\n",
    "test_split_idx = val_split_idx + int(np.floor(test_split * dataset_size))\n",
    "\n",
    "if shuffle_dataset:\n",
    "    np.random.seed(random_seed)\n",
    "    np.random.shuffle(indices)\n",
    "\n",
    "val_indices = indices[:val_split_idx]\n",
    "test_indices = indices[val_split_idx:test_split_idx]\n",
    "train_indices = indices[test_split_idx:]\n",
    "\n",
    "# Creating data samplers and loaders:\n",
    "train_sampler = SubsetRandomSampler(train_indices)\n",
    "valid_sampler = SubsetRandomSampler(val_indices)\n",
    "test_sampler = SubsetRandomSampler(test_indices)\n",
    "\n",
    "train_loader = torch.utils.data.DataLoader(mnist_data, batch_size=batch_size,\n",
    "                                           sampler=train_sampler)\n",
    "valid_loader = torch.utils.data.DataLoader(mnist_data, batch_size=batch_size,\n",
    "                                           sampler=valid_sampler)\n",
    "test_loader = torch.utils.data.DataLoader(mnist_data, batch_size=batch_size,\n",
    "                                          sampler=test_sampler)"
   ]
  },
  {
   "cell_type": "markdown",
   "metadata": {},
   "source": [
    "## Define networks structure, loss function and optimizer"
   ]
  },
  {
   "cell_type": "code",
   "execution_count": 7,
   "metadata": {},
   "outputs": [],
   "source": [
    "# Defining our neural network, structure is [64, 30, 10]\n",
    "neural_network1 = nn.Sequential(nn.Linear(64, 30),\n",
    "                              nn.Sigmoid(),\n",
    "                              nn.Linear(30, 10),\n",
    "                              nn.LogSoftmax(dim=1))\n",
    "\n",
    "# Loss function, Negative Log Loss\n",
    "criterion = nn.NLLLoss()\n",
    "\n",
    "# Optimizers require the parameters to optimize and a learning rate\n",
    "optimizer = torch.optim.SGD(neural_network1.parameters(), lr=0.25)"
   ]
  },
  {
   "cell_type": "markdown",
   "metadata": {},
   "source": [
    "## Training our Neural Network with structure [64, 30, 10]"
   ]
  },
  {
   "cell_type": "code",
   "execution_count": 8,
   "metadata": {},
   "outputs": [
    {
     "name": "stdout",
     "output_type": "stream",
     "text": [
      "Training loss on epoch 0 is 2.25470625437223\n",
      "Training loss on epoch 100 is 0.05213634469188177\n",
      "Training loss on epoch 200 is 0.02237305023635809\n",
      "Training loss on epoch 300 is 0.013193730551462907\n",
      "Training loss on epoch 400 is 0.009187389487543931\n",
      "Training loss on epoch 500 is 0.0069558113598479675\n",
      "Training loss on epoch 600 is 0.005636111224213472\n",
      "Training loss on epoch 700 is 0.004793570448572819\n",
      "Training loss on epoch 800 is 0.003999811221057406\n",
      "Training loss on epoch 900 is 0.003470554553831999\n",
      "Training loss on epoch 1000 is 0.0031158817000687122\n",
      "Training loss on epoch 1100 is 0.002860109796389364\n",
      "Training loss on epoch 1200 is 0.002502961684233294\n",
      "Training loss on epoch 1300 is 0.0022827921650157524\n",
      "Training loss on epoch 1400 is 0.00211349711753428\n",
      "Training loss on epoch 1500 is 0.0019778714049607515\n",
      "Training loss on epoch 1600 is 0.0017828032052001129\n",
      "Training loss on epoch 1700 is 0.0016803136184954871\n",
      "Training loss on epoch 1800 is 0.0016216099477158142\n",
      "Training loss on epoch 1900 is 0.0014775800429141293\n"
     ]
    }
   ],
   "source": [
    "epochs = 2000\n",
    "loss_overtime = []\n",
    "\n",
    "for epoch in range(epochs):\n",
    "    running_loss = 0\n",
    "    for images, labels in train_loader:\n",
    "        # flatten MNIST images into a long vector\n",
    "        images = images.view(images.shape[0], -1)\n",
    "        \n",
    "        # Training Pass, rest gradient to zero for each training pass\n",
    "        optimizer.zero_grad()\n",
    "        output = neural_network1(images) # forwardprop to generate output tensor\n",
    "        loss = criterion(output, labels) # calculate NLL loss\n",
    "        loss.backward()  # backprop loss, gradients\n",
    "        optimizer.step() # gradient descent SGD update of weights\n",
    "        \n",
    "        running_loss += loss.item()\n",
    "        \n",
    "    avg_running_loss = running_loss/len(train_loader)\n",
    "    loss_overtime.append(avg_running_loss)\n",
    "    if epoch % 100 == 0:\n",
    "        print(\n",
    "            f\"Training loss on epoch {epoch} is {avg_running_loss}\")"
   ]
  },
  {
   "cell_type": "markdown",
   "metadata": {},
   "source": [
    "## Plotting the loss overtime"
   ]
  },
  {
   "cell_type": "code",
   "execution_count": 9,
   "metadata": {},
   "outputs": [
    {
     "data": {
      "image/png": "[encoded data removed]",
      "text/plain": [
       "<Figure size 432x288 with 1 Axes>"
      ]
     },
     "metadata": {
      "needs_background": "light"
     },
     "output_type": "display_data"
    }
   ],
   "source": [
    "plt.plot(loss_overtime)\n",
    "plt.show()"
   ]
  },
  {
   "cell_type": "markdown",
   "metadata": {},
   "source": [
    "## Adjusting hyperparameters based on the validation set"
   ]
  },
  {
   "cell_type": "code",
   "execution_count": 12,
   "metadata": {},
   "outputs": [
    {
     "name": "stdout",
     "output_type": "stream",
     "text": [
      "The accuracy for the validation set is 97.49303621169916%\n"
     ]
    }
   ],
   "source": [
    "correct, total = 0, 0\n",
    "\n",
    "for images, labels in valid_loader:\n",
    "    output = neural_network1(images)\n",
    "    for y_pred_vect, y_actual in zip(output, labels):\n",
    "        _, num_idx = torch.max(y_pred_vect, 0)\n",
    "        correct += (1 if num_idx == y_actual else 0)\n",
    "        total += 1\n",
    "print(f\"The accuracy for the validation set is {(correct/total)*100}%\")"
   ]
  },
  {
   "cell_type": "markdown",
   "metadata": {},
   "source": [
    "## Testing the accuracy on the test set"
   ]
  },
  {
   "cell_type": "code",
   "execution_count": 13,
   "metadata": {},
   "outputs": [
    {
     "name": "stdout",
     "output_type": "stream",
     "text": [
      "The accuracy for the test set is 97.76951672862454%\n"
     ]
    }
   ],
   "source": [
    "for images, labels in test_loader:\n",
    "    output = neural_network1(images)\n",
    "    for y_pred_vect, y_actual in zip(output, labels):\n",
    "        _, num_idx = torch.max(y_pred_vect, 0)\n",
    "        correct += (1 if num_idx == y_actual else 0)\n",
    "        total += 1\n",
    "print(f\"The accuracy for the test set is {(correct/total)*100}%\")"
   ]
  },
  {
   "cell_type": "code",
   "execution_count": null,
   "metadata": {},
   "outputs": [],
   "source": []
  }
 ],
 "metadata": {
  "kernelspec": {
   "display_name": "Python 3",
   "language": "python",
   "name": "python3"
  },
  "language_info": {
   "codemirror_mode": {
    "name": "ipython",
    "version": 3
   },
   "file_extension": ".py",
   "mimetype": "text/x-python",
   "name": "python",
   "nbconvert_exporter": "python",
   "pygments_lexer": "ipython3",
   "version": "3.7.3"
  }
 },
 "nbformat": 4,
 "nbformat_minor": 2
}

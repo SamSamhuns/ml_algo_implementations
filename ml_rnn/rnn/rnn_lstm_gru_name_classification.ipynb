{
 "cells": [
  {
   "cell_type": "markdown",
   "id": "2b5bf777",
   "metadata": {},
   "source": [
    "# Name to Language Classification using RNNs\n"
   ]
  },
  {
   "cell_type": "markdown",
   "id": "1a490643",
   "metadata": {},
   "source": [
    "## Load required libs, name-to-language data and util funcs"
   ]
  },
  {
   "cell_type": "code",
   "execution_count": 2,
   "id": "8e0a8f82",
   "metadata": {},
   "outputs": [],
   "source": [
    "import os\n",
    "import glob\n",
    "import time\n",
    "import math\n",
    "import string\n",
    "import random\n",
    "import unicodedata\n",
    "from io import open as io_open\n",
    "\n",
    "import torch\n",
    "import torch.nn as nn"
   ]
  },
  {
   "cell_type": "code",
   "execution_count": 3,
   "id": "6e058085",
   "metadata": {},
   "outputs": [],
   "source": [
    "# custom imports and load name-category data\n",
    "from util import line_to_tensor, letter_to_tensor\n",
    "from util import get_category_names_and_lines\n",
    "\n",
    "random.seed(42)\n",
    "torch.manual_seed(42)\n",
    "\n",
    "ALL_LETTERS = string.ascii_letters + \" .,;'\" # character to consider\n",
    "N_LETTERS = len(ALL_LETTERS)                 # length of one hot char encodiing vector\n",
    "\n",
    "# Load name-to-category/language data\n",
    "data_glob = \"../data/names/*.txt\"\n",
    "category_names, category_lines = get_category_names_and_lines(data_glob)\n",
    "\n",
    "N_CATEGORIES = len(category_names)"
   ]
  },
  {
   "cell_type": "code",
   "execution_count": 4,
   "id": "a26e8231",
   "metadata": {},
   "outputs": [
    {
     "data": {
      "text/plain": [
       "(torch.Size([1, 57]), torch.Size([3, 1, 57]))"
      ]
     },
     "execution_count": 4,
     "metadata": {},
     "output_type": "execute_result"
    }
   ],
   "source": [
    "# Convert names into one-hot-encoded tensors\n",
    "# one letter shape <1 x n_letters>\n",
    "# one word shape <word_length x 1 x n_letters>\n",
    "\n",
    "letter_to_tensor('a').shape, line_to_tensor('abc').shape"
   ]
  },
  {
   "cell_type": "markdown",
   "id": "7a0fade0",
   "metadata": {},
   "source": [
    "## Create the RNN architecture"
   ]
  },
  {
   "cell_type": "code",
   "execution_count": 5,
   "id": "1683fabe",
   "metadata": {},
   "outputs": [],
   "source": [
    "# instead of using our own custom RNN architecture, we use torch's LSTM\n",
    "class RNN(nn.Module):\n",
    "    \n",
    "    def __init__(self, input_size, hidden_size, output_size):\n",
    "        super(RNN, self).__init__()\n",
    "\n",
    "        self.hidden_size = hidden_size\n",
    "        self.lstm = nn.LSTM(input_size, output_size)\n",
    "\n",
    "    def forward(self, x, h):\n",
    "        return self.lstm(x, h)\n",
    "    \n",
    "    def init_hidden(self):\n",
    "        return torch.zeros([1, self.hidden_size])"
   ]
  },
  {
   "cell_type": "code",
   "execution_count": 30,
   "id": "db2e73be",
   "metadata": {},
   "outputs": [
    {
     "name": "stdout",
     "output_type": "stream",
     "text": [
      "torch.Size([1, 1, 57]) torch.Size([1, 1, 18]) torch.Size([1, 1, 18]) torch.Size([1, 1, 18])\n"
     ]
    }
   ],
   "source": [
    "# testing our simple RNN \n",
    "n_hidden = N_CATEGORIES\n",
    "n_cell = 18\n",
    "rnn = RNN(N_LETTERS, n_hidden, N_CATEGORIES)\n",
    "cinput = letter_to_tensor('A').unsqueeze(1)\n",
    "hidden = (torch.ones(1, 1, n_hidden),\n",
    "          torch.ones(1, 1, n_cell))\n",
    "output, next_hidden = rnn(cinput, hidden)\n",
    "\n",
    "print(cinput.shape, output.shape, next_hidden[0].shape, next_hidden[1].shape)"
   ]
  },
  {
   "cell_type": "code",
   "execution_count": 31,
   "id": "2d6136f0",
   "metadata": {},
   "outputs": [
    {
     "data": {
      "text/plain": [
       "RNN(\n",
       "  (lstm): LSTM(57, 18)\n",
       ")"
      ]
     },
     "execution_count": 31,
     "metadata": {},
     "output_type": "execute_result"
    }
   ],
   "source": [
    "# structure of our simple RNN\n",
    "rnn"
   ]
  },
  {
   "cell_type": "markdown",
   "id": "6c4d575e",
   "metadata": {},
   "source": [
    "## Training"
   ]
  },
  {
   "cell_type": "code",
   "execution_count": 32,
   "id": "ea8a9a03",
   "metadata": {},
   "outputs": [],
   "source": [
    "def get_category_from_output(output):\n",
    "    category_i = torch.argmax(output)\n",
    "    return category_names[category_i], category_i.item()\n",
    "\n",
    "def get_random_training_example():\n",
    "    category = random.choice(category_names)\n",
    "    category_line = random.choice(category_lines[category])\n",
    "    category_tensor = torch.tensor([category_names.index(category)], dtype=torch.long)\n",
    "    category_line_tensor = line_to_tensor(category_line)\n",
    "    return category, category_line, category_tensor, category_line_tensor"
   ]
  },
  {
   "cell_type": "code",
   "execution_count": 33,
   "id": "339d76fc",
   "metadata": {},
   "outputs": [
    {
     "name": "stdout",
     "output_type": "stream",
     "text": [
      "category = Japanese / line = Araki\n",
      "category = Irish / line = Dubhan\n",
      "category = French / line = Denis\n",
      "category = Japanese / line = Santo\n",
      "category = Polish / line = Filipek\n",
      "category = Portuguese / line = Araujo\n",
      "category = Czech / line = Fritsch\n",
      "category = Russian / line = Hlopkov\n",
      "category = Korean / line = Sun\n",
      "category = Czech / line = Koma\n"
     ]
    }
   ],
   "source": [
    "for i in range(10):\n",
    "    category, line, category_tensor, line_tensor = get_random_training_example()\n",
    "    print('category =', category, '/ line =', line)"
   ]
  },
  {
   "cell_type": "markdown",
   "id": "57182bab",
   "metadata": {},
   "source": [
    "Each loop of training will:\n",
    "\n",
    "-   Create input and target tensors\n",
    "-   Create a zeroed initial hidden state\n",
    "-   Read each letter in and\n",
    "    -   Keep hidden state for next letter\n",
    "-   Compare final output to target\n",
    "-   Back-propagate\n",
    "-   Return the output and loss"
   ]
  },
  {
   "cell_type": "code",
   "execution_count": 16,
   "id": "a44be95c",
   "metadata": {},
   "outputs": [],
   "source": [
    "# loss criterion\n",
    "criterion = nn.NLLLoss()\n",
    "\n",
    "# learning rate\n",
    "lr = 0.0056\n",
    "\n",
    "# number of iterations\n",
    "iterations = 100000\n",
    "\n",
    "n_hidden = 128\n",
    "rnn = RNN(N_LETTERS, n_hidden, N_CATEGORIES)"
   ]
  },
  {
   "cell_type": "code",
   "execution_count": 17,
   "id": "c615f398",
   "metadata": {},
   "outputs": [],
   "source": [
    "def train_one_iter(category_tensor, line_tensor):\n",
    "    hidden = rnn.init_hidden()\n",
    "    rnn.zero_grad()\n",
    "    \n",
    "    # pass each char in line thorugh RNN\n",
    "    for ctensor in line_tensor:\n",
    "        output, hidden = rnn(ctensor, hidden)\n",
    "\n",
    "    loss = criterion(output, category_tensor)\n",
    "    loss.backward()\n",
    "    # Add parameters' gradients to their values, multiplied by learning rate\n",
    "    # this is done by an optimizer usually\n",
    "    for p in rnn.parameters():\n",
    "        p.data.add_(p.grad.data, alpha=-lr)\n",
    "\n",
    "    return output, loss.item()\n",
    "\n",
    "\n",
    "def get_time_since(start):\n",
    "    now = time.time()\n",
    "    s = now - start\n",
    "    m = s / 60\n",
    "    s = m - int(m)\n",
    "    return f\"{int(m)}m:{int(s*60)}s\""
   ]
  },
  {
   "cell_type": "markdown",
   "id": "cf915017",
   "metadata": {},
   "source": [
    "## training loop"
   ]
  },
  {
   "cell_type": "code",
   "execution_count": 18,
   "id": "6f1a00dd",
   "metadata": {},
   "outputs": [
    {
     "name": "stdout",
     "output_type": "stream",
     "text": [
      "Iteration: 5000 5.0% Loss:2.3865 0m:4s Dickson Scottish ✓\n",
      "Iteration: 10000 10.0% Loss:1.7395 0m:8s Kawazu Japanese ✓\n",
      "Iteration: 15000 15.0% Loss:2.4373 0m:13s Degarmo Portuguese ✗ (French)\n",
      "Iteration: 20000 20.0% Loss:0.8100 0m:17s Yin Chinese ✓\n",
      "Iteration: 25000 25.0% Loss:2.2434 0m:21s Rios Greek ✗ (Portuguese)\n",
      "Iteration: 30000 30.0% Loss:2.0983 0m:26s Alves Dutch ✗ (Portuguese)\n",
      "Iteration: 35000 35.0% Loss:0.3869 0m:30s Macdonald Scottish ✓\n",
      "Iteration: 40000 40.0% Loss:0.7063 0m:34s Lavoie French ✓\n",
      "Iteration: 45000 45.0% Loss:1.8745 0m:39s Como Japanese ✗ (Italian)\n",
      "Iteration: 50000 50.0% Loss:3.9995 0m:43s Desrosiers Portuguese ✗ (French)\n",
      "Iteration: 55000 55.0% Loss:1.0403 0m:48s Oirschotten Dutch ✓\n",
      "Iteration: 60000 60.0% Loss:2.7945 0m:52s Quinones Dutch ✗ (Spanish)\n",
      "Iteration: 65000 65.0% Loss:1.4520 0m:56s Guerrero Portuguese ✗ (Spanish)\n",
      "Iteration: 70000 70.0% Loss:0.1265 1m:1s Agnellutti Italian ✓\n",
      "Iteration: 75000 75.0% Loss:0.8209 1m:5s Chan Chinese ✓\n",
      "Iteration: 80000 80.0% Loss:1.7255 1m:10s Ter Avest French ✗ (Dutch)\n",
      "Iteration: 85000 85.0% Loss:0.2336 1m:14s Spyridis Greek ✓\n",
      "Iteration: 90000 90.0% Loss:0.2552 1m:18s Akaike Japanese ✓\n",
      "Iteration: 95000 95.0% Loss:0.0892 1m:22s Phung Vietnamese ✓\n",
      "Iteration: 100000 100.0% Loss:2.2528 1m:26s Han Chinese ✗ (Vietnamese)\n"
     ]
    }
   ],
   "source": [
    "n_iters = 100000\n",
    "print_every = 5000\n",
    "plot_every = 1000\n",
    "\n",
    "# Keep track of losses for plotting\n",
    "start_time = time.time()\n",
    "current_loss = 0\n",
    "all_losses = []\n",
    "\n",
    "for i in range(1, n_iters+1):\n",
    "    category, category_line, category_tensor, category_line_tensor = get_random_training_example()\n",
    "    pred_category_tensor, loss = train_one_iter(category_tensor, category_line_tensor)\n",
    "    \n",
    "    current_loss += loss\n",
    "    if i % plot_every == 0:\n",
    "        all_losses.append(current_loss/plot_every)\n",
    "        current_loss = 0\n",
    "\n",
    "    if i % print_every == 0:\n",
    "        pred_category, cat_idx = get_category_from_output(pred_category_tensor)\n",
    "        correct = '✓' if pred_category == category else f\"✗ ({category})\"\n",
    "        print(f\"Iteration: {i} {i*100/(n_iters)}% Loss:{loss:.4f} {get_time_since(start_time)} {category_line} {pred_category} {correct}\")"
   ]
  },
  {
   "cell_type": "markdown",
   "id": "2ec5c70c",
   "metadata": {},
   "source": [
    "## Plotting the results"
   ]
  },
  {
   "cell_type": "code",
   "execution_count": 21,
   "id": "ef8de622",
   "metadata": {},
   "outputs": [
    {
     "data": {
      "text/plain": [
       "[<matplotlib.lines.Line2D at 0x7f9ef3645c50>]"
      ]
     },
     "execution_count": 21,
     "metadata": {},
     "output_type": "execute_result"
    },
    {
     "data": {
      "image/png": "[encoded data removed]",
      "text/plain": [
       "<Figure size 432x288 with 1 Axes>"
      ]
     },
     "metadata": {
      "needs_background": "light"
     },
     "output_type": "display_data"
    }
   ],
   "source": [
    "import matplotlib.pyplot as plt\n",
    "import matplotlib.ticker as ticker\n",
    "\n",
    "plt.figure()\n",
    "plt.xlabel(f\"Iterations (per {plot_every})\")\n",
    "plt.ylabel(f\"Average Loss\")\n",
    "plt.plot(all_losses)"
   ]
  },
  {
   "cell_type": "markdown",
   "id": "2ff7e1fc",
   "metadata": {},
   "source": [
    "## Evaluating results"
   ]
  },
  {
   "cell_type": "code",
   "execution_count": 26,
   "id": "fef6574d",
   "metadata": {},
   "outputs": [
    {
     "name": "stderr",
     "output_type": "stream",
     "text": [
      "/Users/samridha.shrestha/Main/projects/ml_recurrent_neural_networks/venv/lib/python3.7/site-packages/ipykernel_launcher.py:33: UserWarning: FixedFormatter should only be used together with FixedLocator\n",
      "/Users/samridha.shrestha/Main/projects/ml_recurrent_neural_networks/venv/lib/python3.7/site-packages/ipykernel_launcher.py:34: UserWarning: FixedFormatter should only be used together with FixedLocator\n"
     ]
    },
    {
     "data": {
      "image/png": "[encoded data removed]",
      "text/plain": [
       "<Figure size 864x576 with 2 Axes>"
      ]
     },
     "metadata": {
      "needs_background": "light"
     },
     "output_type": "display_data"
    }
   ],
   "source": [
    "# Keep track of correct guesses in a confusion matrix\n",
    "confusion = torch.zeros(N_CATEGORIES, N_CATEGORIES)\n",
    "n_confusion = 10000\n",
    "\n",
    "# return an output tensor of size n_categories given a line\n",
    "def evaluate(line_tensor):\n",
    "    hidden = rnn.init_hidden()\n",
    "\n",
    "    for i in range(line_tensor.size()[0]):\n",
    "        output, hidden = rnn(line_tensor[i], hidden)\n",
    "\n",
    "    return output\n",
    "\n",
    "# Go through a bunch of examples and record which are correctly guessed\n",
    "for i in range(n_confusion):\n",
    "    category, line, category_tensor, line_tensor = get_random_training_example()\n",
    "    output = evaluate(line_tensor)\n",
    "    guess, guess_i = get_category_from_output(output)\n",
    "    category_i = category_names.index(category)\n",
    "    confusion[category_i][guess_i] += 1\n",
    "\n",
    "# Normalize by dividing every row by its sum\n",
    "for i in range(N_CATEGORIES):\n",
    "    confusion[i] = confusion[i] / confusion[i].sum()\n",
    "\n",
    "# Set up plot\n",
    "fig = plt.figure(figsize=(12,8))\n",
    "ax = fig.add_subplot(111)\n",
    "cax = ax.matshow(confusion.numpy())\n",
    "fig.colorbar(cax)\n",
    "\n",
    "# Set up axes\n",
    "ax.set_xticklabels([''] + category_names, rotation=90)\n",
    "ax.set_yticklabels([''] + category_names)\n",
    "\n",
    "# Set axes labels\n",
    "ax.set_xlabel(\"Predicted\")\n",
    "ax.set_ylabel(\"Actual\")\n",
    "\n",
    "# Force label at every tick\n",
    "ax.xaxis.set_major_locator(ticker.MultipleLocator(1))\n",
    "ax.yaxis.set_major_locator(ticker.MultipleLocator(1))\n",
    "\n",
    "# sphinx_gallery_thumbnail_number = 2\n",
    "plt.show()"
   ]
  },
  {
   "cell_type": "code",
   "execution_count": 27,
   "id": "d6a0300e",
   "metadata": {},
   "outputs": [
    {
     "name": "stdout",
     "output_type": "stream",
     "text": [
      "Accuracy: 54.08%\n"
     ]
    }
   ],
   "source": [
    "# evaluate on the whole dataset\n",
    "correct, total = 0, 0\n",
    "for cat_idx, category in enumerate(category_names):\n",
    "    for line in category_lines[category]:\n",
    "        line_tensor = line_to_tensor(line)\n",
    "        output = evaluate(line_tensor)\n",
    "        _, guess_i = get_category_from_output(output)\n",
    "        correct += 1 if guess_i == cat_idx else 0\n",
    "        total += 1\n",
    "        \n",
    "print(f\"Accuracy: {100*correct/total:.2f}%\")"
   ]
  },
  {
   "cell_type": "markdown",
   "id": "f7eee826",
   "metadata": {},
   "source": [
    "## Inference on user input"
   ]
  },
  {
   "cell_type": "code",
   "execution_count": 29,
   "id": "3629ffd4",
   "metadata": {},
   "outputs": [
    {
     "name": "stdout",
     "output_type": "stream",
     "text": [
      "\n",
      "> Dovesky\n",
      "(-0.33) Russian\n",
      "(-1.75) Czech\n",
      "(-3.16) English\n",
      "\n",
      "> Jackson\n",
      "(-1.18) Scottish\n",
      "(-1.19) English\n",
      "(-2.17) Korean\n",
      "\n",
      "> Satoshi\n",
      "(-0.76) Japanese\n",
      "(-1.88) Italian\n",
      "(-2.75) Arabic\n"
     ]
    }
   ],
   "source": [
    "def predict(input_line, n_predictions=3):\n",
    "    print('\\n> %s' % input_line)\n",
    "    with torch.no_grad():\n",
    "        output = evaluate(line_to_tensor(input_line))\n",
    "\n",
    "        # Get top N categories\n",
    "        topv, topi = output.topk(n_predictions, 1, True)\n",
    "        predictions = []\n",
    "\n",
    "        for i in range(n_predictions):\n",
    "            value = topv[0][i].item()\n",
    "            category_index = topi[0][i].item()\n",
    "            print('(%.2f) %s' % (value, category_names[category_index]))\n",
    "            predictions.append([value, category_names[category_index]])\n",
    "\n",
    "predict('Dovesky')\n",
    "predict('Jackson')\n",
    "predict('Satoshi')"
   ]
  },
  {
   "cell_type": "code",
   "execution_count": null,
   "id": "eee46c8e",
   "metadata": {},
   "outputs": [],
   "source": []
  }
 ],
 "metadata": {
  "kernelspec": {
   "display_name": "Python 3",
   "language": "python",
   "name": "python3"
  },
  "language_info": {
   "codemirror_mode": {
    "name": "ipython",
    "version": 3
   },
   "file_extension": ".py",
   "mimetype": "text/x-python",
   "name": "python",
   "nbconvert_exporter": "python",
   "pygments_lexer": "ipython3",
   "version": "3.7.9"
  }
 },
 "nbformat": 4,
 "nbformat_minor": 5
}

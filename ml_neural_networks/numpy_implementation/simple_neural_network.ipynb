{
 "cells": [
  {
   "cell_type": "code",
   "execution_count": 2,
   "metadata": {},
   "outputs": [],
   "source": [
    "import numpy as np"
   ]
  },
  {
   "cell_type": "code",
   "execution_count": 85,
   "metadata": {},
   "outputs": [],
   "source": [
    "def sigmoid(x):\n",
    "    ''' Sigmoid activation function'''\n",
    "    return 1 / (1+(np.exp(-x)))\n",
    "\n",
    "class Neuron:\n",
    "    ''' Neuron class takes weights as an array and an int as a bias '''\n",
    "    def __init__(self, weights, bias):\n",
    "        self.weights = weights\n",
    "        self.bias = bias\n",
    "        \n",
    "    def feedforward(self, inputs):\n",
    "        si = np.dot(self.weights, inputs) + self.bias\n",
    "        return sigmoid(si)\n",
    "    \n",
    "class NeuralNetwork:\n",
    "    \n",
    "    def __init__(self, n_total, bias, weights, *n_each_layer):\n",
    "        ''' n_total means total number of layers including output layer,\n",
    "            bias must be entered as an array i.e. bias for neurons in each layer,\n",
    "            weights must also be entered as an array i.e. weights for neurons in each layer\n",
    "            n_each_layer refers to number of neurons in each layer,\n",
    "            final layer of output must always have only one neuron\n",
    "            example init: neu1 = NeuralNetwork(3, 0, [3,4], 10,5,1)'''\n",
    "        # Error checking\n",
    "        if (n_total != len(n_each_layer)):\n",
    "            raise Exception(\"n_total must equal the number of args in n_each_layer\")\n",
    "        \n",
    "        if n_each_layer[-1] != 1:\n",
    "            raise Exception(\"Final output layer must be equal to one\")\n",
    "        \n",
    "        self.num_each_layer = n_each_layer\n",
    "    \n",
    "        # Setting neurons for each layer in n_total layers\n",
    "        for neuron_layer in range(n_total):\n",
    "            for neuron_num in range(n_each_layer[neuron_layer]):\n",
    "                setattr(self, \"ly\"+\n",
    "                        str(neuron_layer)+\"_ne\"+\n",
    "                        str(neuron_num), Neuron(weights[neuron_layer], bias[neuron_layer]))\n",
    "                \n",
    "    def feedforward(self, inputs):\n",
    "        total_layers_rem = len(self.num_each_layer)\n",
    "        num_each_layer = self.num_each_layer\n",
    "        iterr = 0\n",
    "        \n",
    "        def calculate(iterr, total_layers_rem, ly_input_np_arr):\n",
    "            ''' Recursive func to calculate the final output from the neural network'''\n",
    "            output = []\n",
    "            if total_layers_rem == 0:\n",
    "                return ly_input_np_arr[0]\n",
    "            \n",
    "            for neuron_number in range(num_each_layer[iterr]):\n",
    "                cur_neu = getattr(self, \"ly\"+str(iterr)+\"_ne\"+str(neuron_number))\n",
    "                output.append(cur_neu.feedforward(ly_input_np_arr))\n",
    "            output = np.array(output)\n",
    "            total_layers_rem -= 1\n",
    "            iterr += 1\n",
    "            return calculate(iterr, total_layers_rem, output)\n",
    "        \n",
    "        return calculate(iterr, total_layers_rem, inputs)\n",
    "        "
   ]
  },
  {
   "cell_type": "code",
   "execution_count": 89,
   "metadata": {},
   "outputs": [
    {
     "data": {
      "text/plain": [
       "0.9813672794904199"
      ]
     },
     "execution_count": 89,
     "metadata": {},
     "output_type": "execute_result"
    }
   ],
   "source": [
    "# example of a feedforward for a 3 layer neural network\n",
    "# with input layer, two hidden layers and one output layer\n",
    "#          ly0_ne0\n",
    "#  input1  ly0_ne1    ly1_ne0\n",
    "#          ly0_ne2    ly1_ne1    ly2_n20 \n",
    "#  input2  ly0_ne3    ly1_ne2\n",
    "#          ly0_ne4\n",
    "\n",
    "neural1 = NeuralNetwork(3, [0, -3, 2], [[4,7], [3,1,1,3,-1], [2,1,-1]], 5, 3, 1)\n",
    "neural1.feedforward([200,37])"
   ]
  }
 ],
 "metadata": {
  "kernelspec": {
   "display_name": "Python 3",
   "language": "python",
   "name": "python3"
  },
  "language_info": {
   "codemirror_mode": {
    "name": "ipython",
    "version": 3
   },
   "file_extension": ".py",
   "mimetype": "text/x-python",
   "name": "python",
   "nbconvert_exporter": "python",
   "pygments_lexer": "ipython3",
   "version": "3.6.5"
  }
 },
 "nbformat": 4,
 "nbformat_minor": 2
}

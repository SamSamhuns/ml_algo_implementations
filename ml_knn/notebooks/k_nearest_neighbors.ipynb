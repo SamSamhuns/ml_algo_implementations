{
 "cells": [
  {
   "cell_type": "markdown",
   "metadata": {},
   "source": [
    "# EDA and preprocessing data"
   ]
  },
  {
   "cell_type": "markdown",
   "metadata": {},
   "source": [
    "###  Importing libraries and exploring data"
   ]
  },
  {
   "cell_type": "code",
   "execution_count": 1,
   "metadata": {},
   "outputs": [],
   "source": [
    "from IPython.core.interactiveshell import InteractiveShell\n",
    "import heapq\n",
    "import numpy as np\n",
    "import pandas as pd\n",
    "import matplotlib.pyplot as plt\n",
    "from collections import Counter\n",
    "from IPython.core.display import HTML\n",
    "from sklearn.model_selection import train_test_split\n",
    "\n",
    "%matplotlib inline\n",
    "%config InlineBackend.figure_format = 'retina'\n",
    "\n",
    "class MismatchLengthException(Exception):\n",
    "    \"\"\" to print error messages and stop the program when needed \"\"\"\n",
    "    pass\n",
    "\n",
    "'''Set up pretty printing of variables on all lines'''\n",
    "InteractiveShell.ast_node_interactivity = \"all\"\n",
    "\n",
    "\n",
    "def multi_table(table_list):\n",
    "    ''' Acceps a list of IpyTable objects and returns a table which contains each IpyTable in a cell\n",
    "    Credits to epmoyer\n",
    "    link https://github.com/epmoyer/ipy_table/issues/24\n",
    "    '''\n",
    "    return HTML(\n",
    "        '<table><tr style=\"background-color:white;\">' +\n",
    "        ''.join(['<td>' + table._repr_html_() + '</td>' for table in table_list]) +\n",
    "        '</tr></table>'\n",
    "    )"
   ]
  },
  {
   "cell_type": "markdown",
   "metadata": {},
   "source": [
    "Inspecting the head of our dataset and getting a general statistical description of the whole data"
   ]
  },
  {
   "cell_type": "code",
   "execution_count": 2,
   "metadata": {},
   "outputs": [
    {
     "data": {
      "text/html": [
       "<table><tr style=\"background-color:white;\"><td><div>\n",
       "<style scoped>\n",
       "    .dataframe tbody tr th:only-of-type {\n",
       "        vertical-align: middle;\n",
       "    }\n",
       "\n",
       "    .dataframe tbody tr th {\n",
       "        vertical-align: top;\n",
       "    }\n",
       "\n",
       "    .dataframe thead th {\n",
       "        text-align: right;\n",
       "    }\n",
       "</style>\n",
       "<table border=\"1\" class=\"dataframe\">\n",
       "  <thead>\n",
       "    <tr style=\"text-align: right;\">\n",
       "      <th></th>\n",
       "      <th>sepal length[cm]</th>\n",
       "      <th>sepal width[cm]</th>\n",
       "      <th>petal length[cm]</th>\n",
       "      <th>petal width</th>\n",
       "      <th>label</th>\n",
       "    </tr>\n",
       "  </thead>\n",
       "  <tbody>\n",
       "    <tr>\n",
       "      <th>0</th>\n",
       "      <td>5.1</td>\n",
       "      <td>3.5</td>\n",
       "      <td>1.4</td>\n",
       "      <td>0.2</td>\n",
       "      <td>Iris-setosa</td>\n",
       "    </tr>\n",
       "    <tr>\n",
       "      <th>1</th>\n",
       "      <td>4.9</td>\n",
       "      <td>3.0</td>\n",
       "      <td>1.4</td>\n",
       "      <td>0.2</td>\n",
       "      <td>Iris-setosa</td>\n",
       "    </tr>\n",
       "    <tr>\n",
       "      <th>2</th>\n",
       "      <td>4.7</td>\n",
       "      <td>3.2</td>\n",
       "      <td>1.3</td>\n",
       "      <td>0.2</td>\n",
       "      <td>Iris-setosa</td>\n",
       "    </tr>\n",
       "    <tr>\n",
       "      <th>3</th>\n",
       "      <td>4.6</td>\n",
       "      <td>3.1</td>\n",
       "      <td>1.5</td>\n",
       "      <td>0.2</td>\n",
       "      <td>Iris-setosa</td>\n",
       "    </tr>\n",
       "    <tr>\n",
       "      <th>4</th>\n",
       "      <td>5.0</td>\n",
       "      <td>3.6</td>\n",
       "      <td>1.4</td>\n",
       "      <td>0.2</td>\n",
       "      <td>Iris-setosa</td>\n",
       "    </tr>\n",
       "  </tbody>\n",
       "</table>\n",
       "</div></td><td><div>\n",
       "<style scoped>\n",
       "    .dataframe tbody tr th:only-of-type {\n",
       "        vertical-align: middle;\n",
       "    }\n",
       "\n",
       "    .dataframe tbody tr th {\n",
       "        vertical-align: top;\n",
       "    }\n",
       "\n",
       "    .dataframe thead th {\n",
       "        text-align: right;\n",
       "    }\n",
       "</style>\n",
       "<table border=\"1\" class=\"dataframe\">\n",
       "  <thead>\n",
       "    <tr style=\"text-align: right;\">\n",
       "      <th></th>\n",
       "      <th>sepal length[cm]</th>\n",
       "      <th>sepal width[cm]</th>\n",
       "      <th>petal length[cm]</th>\n",
       "      <th>petal width</th>\n",
       "    </tr>\n",
       "  </thead>\n",
       "  <tbody>\n",
       "    <tr>\n",
       "      <th>count</th>\n",
       "      <td>150.000000</td>\n",
       "      <td>150.000000</td>\n",
       "      <td>150.000000</td>\n",
       "      <td>150.000000</td>\n",
       "    </tr>\n",
       "    <tr>\n",
       "      <th>mean</th>\n",
       "      <td>5.843333</td>\n",
       "      <td>3.054000</td>\n",
       "      <td>3.758667</td>\n",
       "      <td>1.198667</td>\n",
       "    </tr>\n",
       "    <tr>\n",
       "      <th>std</th>\n",
       "      <td>0.828066</td>\n",
       "      <td>0.433594</td>\n",
       "      <td>1.764420</td>\n",
       "      <td>0.763161</td>\n",
       "    </tr>\n",
       "    <tr>\n",
       "      <th>min</th>\n",
       "      <td>4.300000</td>\n",
       "      <td>2.000000</td>\n",
       "      <td>1.000000</td>\n",
       "      <td>0.100000</td>\n",
       "    </tr>\n",
       "    <tr>\n",
       "      <th>25%</th>\n",
       "      <td>5.100000</td>\n",
       "      <td>2.800000</td>\n",
       "      <td>1.600000</td>\n",
       "      <td>0.300000</td>\n",
       "    </tr>\n",
       "    <tr>\n",
       "      <th>50%</th>\n",
       "      <td>5.800000</td>\n",
       "      <td>3.000000</td>\n",
       "      <td>4.350000</td>\n",
       "      <td>1.300000</td>\n",
       "    </tr>\n",
       "    <tr>\n",
       "      <th>75%</th>\n",
       "      <td>6.400000</td>\n",
       "      <td>3.300000</td>\n",
       "      <td>5.100000</td>\n",
       "      <td>1.800000</td>\n",
       "    </tr>\n",
       "    <tr>\n",
       "      <th>max</th>\n",
       "      <td>7.900000</td>\n",
       "      <td>4.400000</td>\n",
       "      <td>6.900000</td>\n",
       "      <td>2.500000</td>\n",
       "    </tr>\n",
       "  </tbody>\n",
       "</table>\n",
       "</div></td></tr></table>"
      ],
      "text/plain": [
       "<IPython.core.display.HTML object>"
      ]
     },
     "execution_count": 2,
     "metadata": {},
     "output_type": "execute_result"
    }
   ],
   "source": [
    "iris_df = pd.read_csv('../data/iris.csv', header=None, names=[\n",
    "                      \"sepal length[cm]\", \"sepal width[cm]\", \"petal length[cm]\", \"petal width\", \"label\"])\n",
    "multi_table([iris_df.head(), iris_df.describe()])"
   ]
  },
  {
   "cell_type": "code",
   "execution_count": 3,
   "metadata": {},
   "outputs": [
    {
     "data": {
      "text/plain": [
       "(sepal length[cm]    float64\n",
       " sepal width[cm]     float64\n",
       " petal length[cm]    float64\n",
       " petal width         float64\n",
       " label                object\n",
       " dtype: object, (150, 5), 3)"
      ]
     },
     "execution_count": 3,
     "metadata": {},
     "output_type": "execute_result"
    }
   ],
   "source": [
    "iris_df.dtypes, iris_df.shape, iris_df.label.nunique()"
   ]
  },
  {
   "cell_type": "markdown",
   "metadata": {},
   "source": [
    "###  Preprocessing Data\n",
    "\n",
    "Converting the categorical `label` column in data to numerical values."
   ]
  },
  {
   "cell_type": "code",
   "execution_count": 4,
   "metadata": {},
   "outputs": [
    {
     "data": {
      "text/html": [
       "<div>\n",
       "<style scoped>\n",
       "    .dataframe tbody tr th:only-of-type {\n",
       "        vertical-align: middle;\n",
       "    }\n",
       "\n",
       "    .dataframe tbody tr th {\n",
       "        vertical-align: top;\n",
       "    }\n",
       "\n",
       "    .dataframe thead th {\n",
       "        text-align: right;\n",
       "    }\n",
       "</style>\n",
       "<table border=\"1\" class=\"dataframe\">\n",
       "  <thead>\n",
       "    <tr style=\"text-align: right;\">\n",
       "      <th></th>\n",
       "      <th>sepal length[cm]</th>\n",
       "      <th>sepal width[cm]</th>\n",
       "      <th>petal length[cm]</th>\n",
       "      <th>petal width</th>\n",
       "      <th>label</th>\n",
       "    </tr>\n",
       "  </thead>\n",
       "  <tbody>\n",
       "    <tr>\n",
       "      <th>0</th>\n",
       "      <td>5.1</td>\n",
       "      <td>3.5</td>\n",
       "      <td>1.4</td>\n",
       "      <td>0.2</td>\n",
       "      <td>0</td>\n",
       "    </tr>\n",
       "    <tr>\n",
       "      <th>1</th>\n",
       "      <td>4.9</td>\n",
       "      <td>3.0</td>\n",
       "      <td>1.4</td>\n",
       "      <td>0.2</td>\n",
       "      <td>0</td>\n",
       "    </tr>\n",
       "    <tr>\n",
       "      <th>2</th>\n",
       "      <td>4.7</td>\n",
       "      <td>3.2</td>\n",
       "      <td>1.3</td>\n",
       "      <td>0.2</td>\n",
       "      <td>0</td>\n",
       "    </tr>\n",
       "    <tr>\n",
       "      <th>3</th>\n",
       "      <td>4.6</td>\n",
       "      <td>3.1</td>\n",
       "      <td>1.5</td>\n",
       "      <td>0.2</td>\n",
       "      <td>0</td>\n",
       "    </tr>\n",
       "    <tr>\n",
       "      <th>4</th>\n",
       "      <td>5.0</td>\n",
       "      <td>3.6</td>\n",
       "      <td>1.4</td>\n",
       "      <td>0.2</td>\n",
       "      <td>0</td>\n",
       "    </tr>\n",
       "  </tbody>\n",
       "</table>\n",
       "</div>"
      ],
      "text/plain": [
       "   sepal length[cm]  sepal width[cm]  petal length[cm]  petal width  label\n",
       "0               5.1              3.5               1.4          0.2      0\n",
       "1               4.9              3.0               1.4          0.2      0\n",
       "2               4.7              3.2               1.3          0.2      0\n",
       "3               4.6              3.1               1.5          0.2      0\n",
       "4               5.0              3.6               1.4          0.2      0"
      ]
     },
     "execution_count": 4,
     "metadata": {},
     "output_type": "execute_result"
    }
   ],
   "source": [
    "iris_df['label'] = iris_df.label.map({'Iris-setosa': 0,\n",
    "                                      'Iris-versicolor': 1,\n",
    "                                      'Iris-virginica': 2})\n",
    "iris_df.head()"
   ]
  },
  {
   "cell_type": "markdown",
   "metadata": {},
   "source": [
    "### Split the data into training and testing sets with sklearn.preprocessing.train_test_split"
   ]
  },
  {
   "cell_type": "code",
   "execution_count": 5,
   "metadata": {},
   "outputs": [
    {
     "name": "stdout",
     "output_type": "stream",
     "text": [
      "The number of training examples:  112\n",
      "The number of test exampels:  38\n",
      "The first four training labels\n",
      "[1 1 2 0]\n",
      "The first four iris' measurements\n",
      "[[5.8 2.4]\n",
      " [6.  1. ]\n",
      " [5.5 0.2]\n",
      " [7.3 1.8]]\n"
     ]
    }
   ],
   "source": [
    "names = [\"sepal length[cm]\", \"petal width\"]  # Only using two features for now\n",
    "\n",
    "df_X_train, df_X_test, df_y_train, df_y_test = train_test_split(\n",
    "    iris_df[names], iris_df['label'], random_state=0)\n",
    "\n",
    "X_train = df_X_train.to_numpy()\n",
    "X_test = df_X_test.to_numpy()\n",
    "y_train = df_y_train.to_numpy()\n",
    "y_test = df_y_test.to_numpy()\n",
    "\n",
    "# Looking at the train/test split\n",
    "print(\"The number of training examples: \", X_train.shape[0])\n",
    "print(\"The number of test exampels: \", X_test.shape[0])\n",
    "\n",
    "print(\"The first four training labels\")\n",
    "print(y_train[0:4])\n",
    "\n",
    "print(\"The first four iris' measurements\")\n",
    "print(X_test[0:4])"
   ]
  },
  {
   "cell_type": "markdown",
   "metadata": {},
   "source": [
    "### visualizing the data set\n",
    "\n",
    "Using a scatter plot to visualize the dataset"
   ]
  },
  {
   "cell_type": "code",
   "execution_count": 6,
   "metadata": {},
   "outputs": [
    {
     "data": {
      "image/png": "[encoded data removed]",
      "text/plain": [
       "<Figure size 576x576 with 1 Axes>"
      ]
     },
     "metadata": {
      "image/png": {
       "height": 494,
       "width": 497
      }
     },
     "output_type": "display_data"
    }
   ],
   "source": [
    "iris_names = ['Iris-setosa', 'Iris-versicolor', 'Iris-virginica']\n",
    "\n",
    "fig = plt.figure(figsize=(8, 8))\n",
    "ax = fig.add_subplot(111)\n",
    "\n",
    "for i in range(3):\n",
    "    ax.scatter(X_train[y_train == i, 0],\n",
    "               X_train[y_train == i, 1],\n",
    "               marker=('o', 'x', 'v')[i],\n",
    "               s=15,\n",
    "               label='class ' + str(i) + ' ' + iris_names[i])\n",
    "\n",
    "ax.set_title(\"Iris types scatter plot\")\n",
    "ax.set_xlabel('sepal width[cm]')\n",
    "ax.set_ylabel('petal length[cm]')\n",
    "ax.legend(loc='lower right')\n",
    "\n",
    "plt.show(fig);"
   ]
  },
  {
   "cell_type": "markdown",
   "metadata": {},
   "source": [
    "# K Nearest Neighbors Supervised Learning Algorithm"
   ]
  },
  {
   "cell_type": "markdown",
   "metadata": {},
   "source": [
    "### Definining the Distance Metric Class"
   ]
  },
  {
   "cell_type": "code",
   "execution_count": 7,
   "metadata": {
    "code_folding": []
   },
   "outputs": [],
   "source": [
    "class DistanceMetric:\n",
    "\n",
    "    @staticmethod\n",
    "    def minkowski_distance(x1, x2, p):\n",
    "        \"\"\" \n",
    "        x1 and x2 must be numpy.ndarrays\n",
    "        p is the distance order i.e. p=1 (Manhattan), p=2 (Euclidean)\n",
    "        Returns a np.array of distances\n",
    "        \"\"\"\n",
    "        return np.power(np.sum((np.absolute(x1-x2))**p, axis=1), 1/p)\n",
    "\n",
    "    @staticmethod\n",
    "    def manhattan_distance(x1, x2):\n",
    "        return DistanceMetric.minkowski_distance(x1, x2, p=1)\n",
    "\n",
    "    @staticmethod\n",
    "    def euclidean_distance(x1, x2):\n",
    "        return DistanceMetric.minkowski_distance(x1, x2, p=2)"
   ]
  },
  {
   "cell_type": "markdown",
   "metadata": {},
   "source": [
    "### Defining the KNN and EvaluationMetric classes"
   ]
  },
  {
   "cell_type": "code",
   "execution_count": 9,
   "metadata": {
    "code_folding": []
   },
   "outputs": [],
   "source": [
    "class KNN:\n",
    "\n",
    "    __slots__ = ['k', 'X_train', 'y_train', 'distance_metric']\n",
    "\n",
    "    def __init__(self, k=5, distance=DistanceMetric.euclidean_distance):\n",
    "        \"\"\"\n",
    "        Note storing X_train and y_train in memory might be very expensive\n",
    "        \"\"\"\n",
    "        self.k = k\n",
    "        self.X_train = None\n",
    "        self.y_train = None\n",
    "        self.y_pred = None\n",
    "        self.distance_metric = distance\n",
    "\n",
    "    @staticmethod\n",
    "    def get_neighbors_kd_tree(X_train, y_train, X_test, k, distance=DistanceMetric.euclidean_distance):\n",
    "        raise NotImplementedError(\n",
    "            \"kd tree KNN implementation not complete yet\")\n",
    "\n",
    "    @staticmethod\n",
    "    def get_neighbors_brute_force(X_train, y_train, X_test, k, distance=DistanceMetric.euclidean_distance):\n",
    "        \"\"\"\n",
    "        Returns a 2D array of indexes of k nearest neighbors for each element in X_test\n",
    "        \"\"\"\n",
    "        # Faster Alternative: sklearn.metrics.pairwise_distances(X_train, X_test)\n",
    "        dist_arr = [KNN.get_knn_idx(\n",
    "            X_train, test, k, distance) for test in X_test]\n",
    "        return dist_arr\n",
    "\n",
    "    @staticmethod\n",
    "    def get_knn_idx(X_train, single_test, k, distance=DistanceMetric.euclidean_distance):\n",
    "        \"\"\"\n",
    "        Returns indexes of k nearest neighbors for the single element test\n",
    "        \"\"\"\n",
    "        dist_arr_with_idx = [[dist, i]\n",
    "                             for i, dist in enumerate(distance(X_train, single_test))]\n",
    "        heapq.heapify(dist_arr_with_idx)\n",
    "        return [idx for val, idx in heapq.nsmallest(k, dist_arr_with_idx)]\n",
    "\n",
    "    @staticmethod\n",
    "    def get_label(neighbors_list):\n",
    "        \"\"\" \n",
    "        neighbors_list must be list of labels i.e. [1,0,0,1,1]\n",
    "        Return label with the majority votes \n",
    "        \"\"\"\n",
    "        label_counter = Counter(neighbors_list)\n",
    "        max_repeat = max(label_counter.values())\n",
    "        return [key for key, value in label_counter.items() if value == max_repeat][0]\n",
    "\n",
    "    @staticmethod\n",
    "    def predict_labels(X_train, y_train, X_test, k,\n",
    "                       distance=DistanceMetric.euclidean_distance,\n",
    "                       knn_algorithm=None):\n",
    "        knn_algorithm = KNN.get_neighbors_brute_force if knn_algorithm is None else knn_algorithm\n",
    "        knn_idx_2d_arr = knn_algorithm(X_train, y_train, X_test, k, distance)\n",
    "        return np.array([KNN.get_label(np.take(y_train, knn_idx_arr)) for knn_idx_arr in knn_idx_2d_arr])\n",
    "\n",
    "    def fit(self, X_train, y_train):\n",
    "        self.X_train = X_train\n",
    "        self.y_train = y_train\n",
    "\n",
    "    def predict(self, X_test):\n",
    "        self.y_pred = KNN.predict_labels(self.X_train,\n",
    "                                         self.y_train,\n",
    "                                         X_test,\n",
    "                                         self.k,\n",
    "                                         distance=self.distance_metric,\n",
    "                                         knn_algorithm=KNN.get_neighbors_brute_force)\n",
    "        return self.y_pred\n",
    "\n",
    "\n",
    "class EvaluationMetric:\n",
    "\n",
    "    def __init__(self, X_train, X_test, y_train, y_test, k, distance=DistanceMetric.euclidean_distance):\n",
    "        self.y_test = y_test\n",
    "        self.y_pred = KNN.predict_labels(X_train, y_train, X_test, k,\n",
    "                                         distance=DistanceMetric.euclidean_distance,\n",
    "                                         knn_algorithm=KNN.get_neighbors_brute_force)\n",
    "        if len(self.y_test) != len(self.y_pred):\n",
    "            raise MismatchLengthException(\n",
    "                \"y_test and y_pred length do not match\")\n",
    "\n",
    "    @staticmethod\n",
    "    def accuracy(y_test, y_pred):\n",
    "        \"\"\" (TP+FP) / (TP+TN+FP+FN)\"\"\"\n",
    "        if len(y_test) != len(y_pred):\n",
    "            raise MismatchLengthException(\n",
    "                \"y_test and y_pred length do not match\")\n",
    "        return len([1 for actual, pred in zip(y_test, y_pred) if actual == pred]) / len(y_test)\n",
    "\n",
    "    def get_accuracy(self):\n",
    "        return EvaluationMetric.accuracy(self.y_test, self.y_pred)\n",
    "\n",
    "    @staticmethod\n",
    "    def confusion_matrix(y_test, y_pred):\n",
    "        \"\"\"      Actual\n",
    "        Pred  | TP | FP |\n",
    "              | FN | TN |\n",
    "        \"\"\"\n",
    "        conf_matrix = [[0]*len(set(y_test)) for i in range(len(set(y_test)))]\n",
    "        for actual, pred in zip(y_test, y_pred):\n",
    "            conf_matrix[pred][actual] += 1\n",
    "        print(np.matrix(conf_matrix))\n",
    "\n",
    "    @staticmethod\n",
    "    def evaluate(y_test, y_pred):\n",
    "        if len(y_test) != len(y_pred):\n",
    "            raise MismatchLengthException(\n",
    "                \"y_test and y_pred length do not match\")\n",
    "\n",
    "        print(\n",
    "            f\"The Accuracy of the KNN model is {EvaluationMetric.accuracy(y_test, y_pred)}\")\n",
    "        print(\"Confusion Matrix\")\n",
    "        EvaluationMetric.confusion_matrix(y_test, y_pred)"
   ]
  },
  {
   "cell_type": "markdown",
   "metadata": {},
   "source": [
    "### Running our KNN algorithm with different values of k and different distance metrics"
   ]
  },
  {
   "cell_type": "markdown",
   "metadata": {},
   "source": [
    "#### Euclidean metric"
   ]
  },
  {
   "cell_type": "code",
   "execution_count": 10,
   "metadata": {},
   "outputs": [
    {
     "name": "stdout",
     "output_type": "stream",
     "text": [
      "With distance=euclidean and k = 1, accuracy = 0.9210526315789473\n",
      "[[13  0  0]\n",
      " [ 0 14  1]\n",
      " [ 0  2  8]]\n",
      "With distance=euclidean and k = 3, accuracy = 0.9736842105263158\n",
      "[[13  0  0]\n",
      " [ 0 16  1]\n",
      " [ 0  0  8]]\n",
      "With distance=euclidean and k = 5, accuracy = 0.9473684210526315\n",
      "[[13  0  0]\n",
      " [ 0 15  1]\n",
      " [ 0  1  8]]\n",
      "With distance=euclidean and k = 7, accuracy = 0.9736842105263158\n",
      "[[13  0  0]\n",
      " [ 0 16  1]\n",
      " [ 0  0  8]]\n",
      "With distance=euclidean and k = 9, accuracy = 0.9736842105263158\n",
      "[[13  0  0]\n",
      " [ 0 16  1]\n",
      " [ 0  0  8]]\n",
      "With distance=euclidean and k = 11, accuracy = 0.9736842105263158\n",
      "[[13  0  0]\n",
      " [ 0 16  1]\n",
      " [ 0  0  8]]\n"
     ]
    }
   ],
   "source": [
    "for k in range(1, 12, 2):\n",
    "    prediction = KNN.predict_labels(X_train,\n",
    "                                    y_train,\n",
    "                                    X_test,\n",
    "                                    k=k,\n",
    "                                    distance=DistanceMetric.euclidean_distance,\n",
    "                                    knn_algorithm=KNN.get_neighbors_brute_force)\n",
    "\n",
    "    print(f\"With distance=euclidean and k = {k}, accuracy = {EvaluationMetric.accuracy(y_test, prediction)}\")\n",
    "    EvaluationMetric.confusion_matrix(y_test, prediction)"
   ]
  },
  {
   "cell_type": "markdown",
   "metadata": {},
   "source": [
    "#### Manhattan Metric"
   ]
  },
  {
   "cell_type": "code",
   "execution_count": 11,
   "metadata": {},
   "outputs": [
    {
     "name": "stdout",
     "output_type": "stream",
     "text": [
      "With distance=manhattan and k = 1, accuracy = 0.9210526315789473\n",
      "[[13  0  0]\n",
      " [ 0 14  1]\n",
      " [ 0  2  8]]\n",
      "With distance=manhattan and k = 3, accuracy = 0.9736842105263158\n",
      "[[13  0  0]\n",
      " [ 0 16  1]\n",
      " [ 0  0  8]]\n",
      "With distance=manhattan and k = 5, accuracy = 0.9473684210526315\n",
      "[[13  0  0]\n",
      " [ 0 15  1]\n",
      " [ 0  1  8]]\n",
      "With distance=manhattan and k = 7, accuracy = 0.9736842105263158\n",
      "[[13  0  0]\n",
      " [ 0 16  1]\n",
      " [ 0  0  8]]\n",
      "With distance=manhattan and k = 9, accuracy = 0.9736842105263158\n",
      "[[13  0  0]\n",
      " [ 0 16  1]\n",
      " [ 0  0  8]]\n",
      "With distance=manhattan and k = 11, accuracy = 0.9473684210526315\n",
      "[[13  0  0]\n",
      " [ 0 16  2]\n",
      " [ 0  0  7]]\n"
     ]
    }
   ],
   "source": [
    "for k in range(1, 12, 2):\n",
    "    prediction = KNN.predict_labels(X_train,\n",
    "                                    y_train,\n",
    "                                    X_test,\n",
    "                                    k=k,\n",
    "                                    distance=DistanceMetric.manhattan_distance,\n",
    "                                    knn_algorithm=KNN.get_neighbors_brute_force)\n",
    "\n",
    "    print(f\"With distance=manhattan and k = {k}, accuracy = {EvaluationMetric.accuracy(y_test, prediction)}\")\n",
    "    EvaluationMetric.confusion_matrix(y_test, prediction)"
   ]
  },
  {
   "cell_type": "markdown",
   "metadata": {},
   "source": [
    "### Using all four features in the Iris dataset"
   ]
  },
  {
   "cell_type": "code",
   "execution_count": 12,
   "metadata": {},
   "outputs": [],
   "source": [
    "df_X_train4, df_X_test4, df_y_train4, df_y_test4 = train_test_split(\n",
    "    iris_df, iris_df['label'], random_state=0)\n",
    "\n",
    "X_train4 = df_X_train4.to_numpy()\n",
    "X_test4 = df_X_test4.to_numpy()\n",
    "y_train4 = df_y_train4.to_numpy()\n",
    "y_test4 = df_y_test4.to_numpy()"
   ]
  },
  {
   "cell_type": "markdown",
   "metadata": {},
   "source": [
    "#### Euclidean metric"
   ]
  },
  {
   "cell_type": "code",
   "execution_count": 13,
   "metadata": {},
   "outputs": [
    {
     "name": "stdout",
     "output_type": "stream",
     "text": [
      "With distance=euclidean and k = 1, accuracy = 1.0\n",
      "[[13  0  0]\n",
      " [ 0 16  0]\n",
      " [ 0  0  9]]\n",
      "With distance=euclidean and k = 3, accuracy = 1.0\n",
      "[[13  0  0]\n",
      " [ 0 16  0]\n",
      " [ 0  0  9]]\n",
      "With distance=euclidean and k = 5, accuracy = 1.0\n",
      "[[13  0  0]\n",
      " [ 0 16  0]\n",
      " [ 0  0  9]]\n",
      "With distance=euclidean and k = 7, accuracy = 1.0\n",
      "[[13  0  0]\n",
      " [ 0 16  0]\n",
      " [ 0  0  9]]\n",
      "With distance=euclidean and k = 9, accuracy = 1.0\n",
      "[[13  0  0]\n",
      " [ 0 16  0]\n",
      " [ 0  0  9]]\n",
      "With distance=euclidean and k = 11, accuracy = 1.0\n",
      "[[13  0  0]\n",
      " [ 0 16  0]\n",
      " [ 0  0  9]]\n"
     ]
    }
   ],
   "source": [
    "for k in range(1, 12, 2):\n",
    "    prediction = KNN.predict_labels(X_train4,\n",
    "                                    y_train4,\n",
    "                                    X_test4,\n",
    "                                    k=k,\n",
    "                                    distance=DistanceMetric.euclidean_distance,\n",
    "                                    knn_algorithm=KNN.get_neighbors_brute_force)\n",
    "\n",
    "    print(f\"With distance=euclidean and k = {k}, accuracy = {EvaluationMetric.accuracy(y_test4, prediction)}\")\n",
    "    EvaluationMetric.confusion_matrix(y_test, prediction)"
   ]
  },
  {
   "cell_type": "markdown",
   "metadata": {},
   "source": [
    "#### Manhattan Metric"
   ]
  },
  {
   "cell_type": "code",
   "execution_count": 14,
   "metadata": {},
   "outputs": [
    {
     "name": "stdout",
     "output_type": "stream",
     "text": [
      "With distance=manhattan and k = 1, accuracy = 1.0\n",
      "[[13  0  0]\n",
      " [ 0 16  0]\n",
      " [ 0  0  9]]\n",
      "With distance=manhattan and k = 3, accuracy = 1.0\n",
      "[[13  0  0]\n",
      " [ 0 16  0]\n",
      " [ 0  0  9]]\n",
      "With distance=manhattan and k = 5, accuracy = 1.0\n",
      "[[13  0  0]\n",
      " [ 0 16  0]\n",
      " [ 0  0  9]]\n",
      "With distance=manhattan and k = 7, accuracy = 1.0\n",
      "[[13  0  0]\n",
      " [ 0 16  0]\n",
      " [ 0  0  9]]\n",
      "With distance=manhattan and k = 9, accuracy = 1.0\n",
      "[[13  0  0]\n",
      " [ 0 16  0]\n",
      " [ 0  0  9]]\n",
      "With distance=manhattan and k = 11, accuracy = 1.0\n",
      "[[13  0  0]\n",
      " [ 0 16  0]\n",
      " [ 0  0  9]]\n"
     ]
    }
   ],
   "source": [
    "for k in range(1, 12, 2):\n",
    "    prediction = KNN.predict_labels(X_train4,\n",
    "                                    y_train4,\n",
    "                                    X_test4,\n",
    "                                    k=k,\n",
    "                                    distance=DistanceMetric.manhattan_distance,\n",
    "                                    knn_algorithm=KNN.get_neighbors_brute_force)\n",
    "\n",
    "    print(f\"With distance=manhattan and k = {k}, accuracy = {EvaluationMetric.accuracy(y_test4, prediction)}\")\n",
    "    EvaluationMetric.confusion_matrix(y_test, prediction)"
   ]
  },
  {
   "cell_type": "markdown",
   "metadata": {},
   "source": [
    "Our accuracy goes up to 100% once we start using all four features in the original dataset"
   ]
  },
  {
   "cell_type": "code",
   "execution_count": null,
   "metadata": {},
   "outputs": [],
   "source": []
  }
 ],
 "metadata": {
  "hide_input": false,
  "kernelspec": {
   "display_name": "ml-knn",
   "language": "python",
   "name": "ml-knn"
  },
  "language_info": {
   "codemirror_mode": {
    "name": "ipython",
    "version": 3
   },
   "file_extension": ".py",
   "mimetype": "text/x-python",
   "name": "python",
   "nbconvert_exporter": "python",
   "pygments_lexer": "ipython3",
   "version": "3.6.5"
  },
  "toc": {
   "base_numbering": 1,
   "nav_menu": {},
   "number_sections": true,
   "sideBar": true,
   "skip_h1_title": false,
   "title_cell": "Table of Contents",
   "title_sidebar": "Contents",
   "toc_cell": false,
   "toc_position": {},
   "toc_section_display": true,
   "toc_window_display": false
  }
 },
 "nbformat": 4,
 "nbformat_minor": 2
}

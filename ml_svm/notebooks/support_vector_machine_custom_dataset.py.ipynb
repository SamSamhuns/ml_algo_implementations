{
 "cells": [
  {
   "cell_type": "code",
   "execution_count": 1,
   "metadata": {},
   "outputs": [],
   "source": [
    "import csv\n",
    "import cvxopt\n",
    "import numpy as np\n",
    "import pandas as pd\n",
    "import matplotlib.pyplot as plt\n",
    "\n",
    "%matplotlib inline"
   ]
  },
  {
   "cell_type": "markdown",
   "metadata": {},
   "source": [
    "# Hard Margin Case"
   ]
  },
  {
   "cell_type": "markdown",
   "metadata": {},
   "source": [
    "Importing dataset"
   ]
  },
  {
   "cell_type": "code",
   "execution_count": 2,
   "metadata": {},
   "outputs": [],
   "source": [
    "X_orig = np.genfromtxt(\"../data/X.csv\", delimiter=',')\n",
    "y = np.genfromtxt(\"../data/y.csv\", delimiter=',')"
   ]
  },
  {
   "cell_type": "markdown",
   "metadata": {},
   "source": [
    "## Normalizing the X features"
   ]
  },
  {
   "cell_type": "code",
   "execution_count": 3,
   "metadata": {},
   "outputs": [],
   "source": [
    "X = (X_orig - X_orig.mean())/ X_orig.std()"
   ]
  },
  {
   "cell_type": "markdown",
   "metadata": {},
   "source": [
    "### Plotting the data points"
   ]
  },
  {
   "cell_type": "code",
   "execution_count": 4,
   "metadata": {},
   "outputs": [
    {
     "data": {
      "image/png": "[encoded data removed]",
      "text/plain": [
       "<Figure size 720x576 with 1 Axes>"
      ]
     },
     "metadata": {
      "needs_background": "light"
     },
     "output_type": "display_data"
    }
   ],
   "source": [
    "idx_1 = np.where(y==1)\n",
    "idx_2 = np.where(y==-1)\n",
    "\n",
    "plt.figure(figsize=(10,8))\n",
    "plt.scatter(X[idx_1,0], X[idx_1,1], s=30, c='b', marker=\"o\")\n",
    "plt.scatter(X[idx_2,0], X[idx_2,1], s=30, c='r', marker=\"o\")\n",
    "plt.title(\"Points\")\n",
    "plt.xlabel('x1')\n",
    "plt.ylabel('x2')\n",
    "plt.show()"
   ]
  },
  {
   "cell_type": "code",
   "execution_count": 5,
   "metadata": {
    "code_folding": []
   },
   "outputs": [],
   "source": [
    "class Linear_svm:\n",
    "    \n",
    "    def __init__(self):\n",
    "        self.soln = None\n",
    "    \n",
    "    def fit(self, X, y):\n",
    "        cvxopt.solvers.options['show_progress'] = False\n",
    "        \n",
    "        N,F = X.shape\n",
    "        identity_matrix = np.identity(N)\n",
    "        Q = np.zeros([F+1, F+1])\n",
    "\n",
    "        for r,row in enumerate(Q):\n",
    "            for c,elem in enumerate(row):\n",
    "                if r == 0 or c == 0:\n",
    "                    Q[r][c] = 0\n",
    "                else:\n",
    "                    Q[r][c] = identity_matrix[r-1][c-1]\n",
    "\n",
    "        e_list = []\n",
    "        for n in range(N):\n",
    "            zero_matrix = np.zeros(F+1)\n",
    "            for i in range(len(zero_matrix)):\n",
    "                if i == 0:\n",
    "                    zero_matrix[i] = 1\n",
    "                else:\n",
    "                    zero_matrix[i] = (X[n].T)[i-1]\n",
    "            e_list.append(y[n]*zero_matrix)\n",
    "        \n",
    "        e_list = np.array(e_list)*-1.\n",
    "        G = cvxopt.matrix(e_list)       \n",
    "        P = cvxopt.matrix(Q)\n",
    "        q = cvxopt.matrix(np.zeros(F+1))\n",
    "        h = cvxopt.matrix(np.ones(N)*-1.)\n",
    "        \n",
    "        # Solving the Quadratic Programming Problem\n",
    "        self.soln =  cvxopt.solvers.qp(P, q, G, h)"
   ]
  },
  {
   "cell_type": "code",
   "execution_count": 6,
   "metadata": {},
   "outputs": [],
   "source": [
    "linear_svm = Linear_svm()\n",
    "linear_svm.fit(X, y)"
   ]
  },
  {
   "cell_type": "code",
   "execution_count": 7,
   "metadata": {},
   "outputs": [
    {
     "data": {
      "text/plain": [
       "{'x': <3x1 matrix, tc='d'>,\n",
       " 'y': <0x1 matrix, tc='d'>,\n",
       " 's': <100x1 matrix, tc='d'>,\n",
       " 'z': <100x1 matrix, tc='d'>,\n",
       " 'status': 'optimal',\n",
       " 'gap': 9.798040873651916e-08,\n",
       " 'relative gap': 3.42338996845954e-08,\n",
       " 'primal objective': 2.862087372259224,\n",
       " 'dual objective': 2.8620872772086927,\n",
       " 'primal infeasibility': 5.118427737208041e-10,\n",
       " 'dual infeasibility': 5.474242912553206e-08,\n",
       " 'primal slack': 9.185140186553616e-11,\n",
       " 'dual slack': 5.868541896987318e-11,\n",
       " 'iterations': 6}"
      ]
     },
     "execution_count": 7,
     "metadata": {},
     "output_type": "execute_result"
    }
   ],
   "source": [
    "linear_svm.soln"
   ]
  },
  {
   "cell_type": "markdown",
   "metadata": {},
   "source": [
    "## Printing our model parameters"
   ]
  },
  {
   "cell_type": "code",
   "execution_count": 8,
   "metadata": {},
   "outputs": [
    {
     "name": "stdout",
     "output_type": "stream",
     "text": [
      "w = [1.595810412811248, -1.7825722624571614]\n",
      "b = 0.1209383482647966\n"
     ]
    }
   ],
   "source": [
    "params = np.array(linear_svm.soln['x'])\n",
    "w0 = params[0][0]\n",
    "w = [params[1][0], params[2][0]]\n",
    "print(f\"w = {w}\")\n",
    "print(f\"b = {w0}\")"
   ]
  },
  {
   "cell_type": "markdown",
   "metadata": {},
   "source": [
    "## Comparing our model with a sklearn.svm.SVC Classifier"
   ]
  },
  {
   "cell_type": "code",
   "execution_count": 9,
   "metadata": {},
   "outputs": [
    {
     "name": "stdout",
     "output_type": "stream",
     "text": [
      "w =  [[ 1.59608347 -1.78216121]]\n",
      "b =  [0.12094717]\n"
     ]
    }
   ],
   "source": [
    "from sklearn.svm import SVC\n",
    "\n",
    "clf = SVC(C = 1000, kernel = 'linear')\n",
    "clf.fit(X, y.ravel()) \n",
    "\n",
    "print('w = ',clf.coef_)\n",
    "print('b = ',clf.intercept_)"
   ]
  },
  {
   "cell_type": "markdown",
   "metadata": {},
   "source": [
    "**So our results of the model parameters are pretty close to the model parameters generated by the sklearn.svm.SVC Classifier**"
   ]
  },
  {
   "cell_type": "markdown",
   "metadata": {},
   "source": [
    "### Plotting the decision boundary"
   ]
  },
  {
   "cell_type": "code",
   "execution_count": 10,
   "metadata": {},
   "outputs": [],
   "source": [
    "def plot_data_with_decision_boundary(X, y, w, w0,\n",
    "                                     fig_size=(12, 9),\n",
    "                                     labels=['x1', 'x2']):\n",
    "    plt.figure(figsize=fig_size)\n",
    "    pos_idx = np.where(y==1)\n",
    "    neg_idx = np.where(y==-1)\n",
    "\n",
    "    plt.scatter(X[pos_idx,0], X[pos_idx,1], s=30, c='b', marker=\"o\")\n",
    "    plt.scatter(X[neg_idx,0], X[neg_idx,1], s=30, c='r', marker=\"x\")\n",
    "\n",
    "    slope = -w[0]/w[1]\n",
    "    intercept = w0/w[1]\n",
    "    print(f\"slope is {slope}, intercept is {intercept}\")\n",
    "    \n",
    "    axes = plt.gca()\n",
    "    x_vals = np.array(axes.get_xlim())\n",
    "    y_vals = intercept + slope * x_vals\n",
    "    plt.title(\"Linear SVM\")\n",
    "    plt.xlabel(labels[0])\n",
    "    plt.ylabel(labels[1])\n",
    "    plt.plot(x_vals, y_vals, '--')"
   ]
  },
  {
   "cell_type": "code",
   "execution_count": 11,
   "metadata": {},
   "outputs": [
    {
     "name": "stdout",
     "output_type": "stream",
     "text": [
      "slope is 0.895229016192323, intercept is -0.06784485028286644\n"
     ]
    },
    {
     "data": {
      "image/png": "[encoded data removed]",
      "text/plain": [
       "<Figure size 864x648 with 1 Axes>"
      ]
     },
     "metadata": {
      "needs_background": "light"
     },
     "output_type": "display_data"
    }
   ],
   "source": [
    "plot_data_with_decision_boundary(X, y, w, w0)"
   ]
  },
  {
   "cell_type": "markdown",
   "metadata": {},
   "source": [
    "Determine which points are closest to the decision boundary. What is the functional margin of the points closest to the decision boundary?   "
   ]
  },
  {
   "cell_type": "code",
   "execution_count": 12,
   "metadata": {},
   "outputs": [],
   "source": [
    "def get_support_vectors(X, w, w0):\n",
    "    \"\"\"\n",
    "    The Hyperplane is w.Tx + w0 = 0\n",
    "    dist f(x) = w.Tx + w0\n",
    "    \"\"\"\n",
    "    w = np.array(w)\n",
    "    f_x = X@w.T + w0\n",
    "    w_norm = np.linalg.norm(w, 2) # L2 norm\n",
    "    dist_r = f_x / w_norm\n",
    "    dist_r = abs(dist_r)\n",
    "    min_dist = min(dist_r)\n",
    "    \n",
    "    print(f\"Minimum distance is {min_dist}\")\n",
    "    return np.where(np.isclose(dist_r, min_dist))"
   ]
  },
  {
   "cell_type": "markdown",
   "metadata": {},
   "source": [
    "## The Support vectors are at indexes 25, 49 and 68\n",
    "\n",
    "**This is exactly what the sklearn.SVM.svc predicted as well**"
   ]
  },
  {
   "cell_type": "code",
   "execution_count": 13,
   "metadata": {},
   "outputs": [
    {
     "name": "stdout",
     "output_type": "stream",
     "text": [
      "Minimum distance is 0.41796850539946045\n",
      "Custom Model: Indices of Support Vectors =  (array([25, 49, 68]),)\n"
     ]
    }
   ],
   "source": [
    "print(\"Custom Model: Indices of Support Vectors = \", get_support_vectors(X, w, w0))"
   ]
  },
  {
   "cell_type": "markdown",
   "metadata": {},
   "source": [
    "## Indices of Support Vectors as predicted by sklearn.SVM.svc"
   ]
  },
  {
   "cell_type": "code",
   "execution_count": 14,
   "metadata": {},
   "outputs": [
    {
     "name": "stdout",
     "output_type": "stream",
     "text": [
      "sklearn model: Indices of support vectors =  [68 25 49]\n",
      "Support vectors =  [[-0.29692537  0.36301572]\n",
      " [ 0.06232012 -0.43735144]\n",
      " [ 0.42248931 -0.11491754]]\n",
      "Number of support vectors for each class =  [1 2]\n",
      "Coefficients of the support vector in the decision function =  [[2.86193888 1.28505545 1.57688343]]\n"
     ]
    }
   ],
   "source": [
    "print('sklearn model: Indices of support vectors = ', clf.support_)\n",
    "print('Support vectors = ', clf.support_vectors_)\n",
    "print('Number of support vectors for each class = ', clf.n_support_)\n",
    "print('Coefficients of the support vector in the decision function = ', np.abs(clf.dual_coef_))"
   ]
  },
  {
   "cell_type": "markdown",
   "metadata": {},
   "source": [
    "Write the decision function $f_{\\texttt{primal}}({\\bf x})$ to predict examples.  Use this function to predict the label of $(3.0, 1.5)^T$ and $(1.2, 3.0)^T$"
   ]
  },
  {
   "cell_type": "code",
   "execution_count": 15,
   "metadata": {},
   "outputs": [],
   "source": [
    "def f_primal(X, w, w0):\n",
    "    w = np.array(w)\n",
    "    f_x = X@w.T + w0\n",
    "    return np.where(f_x>0, 1, -1)"
   ]
  },
  {
   "cell_type": "code",
   "execution_count": 16,
   "metadata": {},
   "outputs": [],
   "source": [
    "a = np.array([3.0,1.5]).reshape(1,-1)\n",
    "b = np.array([1.2,3.0]).reshape(1,-1)"
   ]
  },
  {
   "cell_type": "code",
   "execution_count": 17,
   "metadata": {},
   "outputs": [
    {
     "name": "stdout",
     "output_type": "stream",
     "text": [
      "The predicted value for [[3.  1.5]] is 1\n"
     ]
    }
   ],
   "source": [
    "print(f\"The predicted value for {a} is {f_primal(a, w, w0)[0]}\")"
   ]
  },
  {
   "cell_type": "code",
   "execution_count": 18,
   "metadata": {},
   "outputs": [
    {
     "name": "stdout",
     "output_type": "stream",
     "text": [
      "The predicted value for [[1.2 3. ]] is -1\n"
     ]
    }
   ],
   "source": [
    "print(f\"The predicted value for {b} is {f_primal(b, w, w0)[0]}\")"
   ]
  },
  {
   "cell_type": "code",
   "execution_count": 19,
   "metadata": {},
   "outputs": [],
   "source": [
    "def plot_predictions(X, w, w0):\n",
    "    plt.figure(figsize=(12,8))\n",
    "    \n",
    "    y_pred = f_primal(X, w, w0)\n",
    "    pos_idx = np.where(y_pred==1)\n",
    "    neg_idx = np.where(y_pred==-1)\n",
    "\n",
    "    plt.scatter(X[pos_idx,0], X[pos_idx,1], s=30, c='b', marker=\"o\")\n",
    "    plt.scatter(X[neg_idx,0], X[neg_idx,1], s=30, c='r', marker=\"x\")\n",
    "\n",
    "    slope = -w[0]/w[1]\n",
    "    intercept = w0/w[1]\n",
    "    \n",
    "    axes = plt.gca()\n",
    "    x_vals = np.array(axes.get_xlim())\n",
    "    y_vals = intercept + slope * x_vals\n",
    "    plt.title(\"Linear SVM\")\n",
    "    plt.xlabel('x0')\n",
    "    plt.ylabel('x1')\n",
    "    plt.plot(x_vals, y_vals, '--')\n",
    "    "
   ]
  },
  {
   "cell_type": "code",
   "execution_count": 20,
   "metadata": {},
   "outputs": [
    {
     "data": {
      "image/png": "[encoded data removed]",
      "text/plain": [
       "<Figure size 864x576 with 1 Axes>"
      ]
     },
     "metadata": {
      "needs_background": "light"
     },
     "output_type": "display_data"
    }
   ],
   "source": [
    "plot_predictions(np.concatenate([a,b]), w, w0)"
   ]
  },
  {
   "cell_type": "code",
   "execution_count": null,
   "metadata": {},
   "outputs": [],
   "source": []
  }
 ],
 "metadata": {
  "hide_input": false,
  "kernelspec": {
   "display_name": "ml_svm_kernel",
   "language": "python",
   "name": "ml_svm_kernel"
  },
  "language_info": {
   "codemirror_mode": {
    "name": "ipython",
    "version": 3
   },
   "file_extension": ".py",
   "mimetype": "text/x-python",
   "name": "python",
   "nbconvert_exporter": "python",
   "pygments_lexer": "ipython3",
   "version": "3.6.5"
  },
  "toc": {
   "base_numbering": 1,
   "nav_menu": {},
   "number_sections": true,
   "sideBar": true,
   "skip_h1_title": false,
   "title_cell": "Table of Contents",
   "title_sidebar": "Contents",
   "toc_cell": false,
   "toc_position": {},
   "toc_section_display": true,
   "toc_window_display": false
  }
 },
 "nbformat": 4,
 "nbformat_minor": 4
}

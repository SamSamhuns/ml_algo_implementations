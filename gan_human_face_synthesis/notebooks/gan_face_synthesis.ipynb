{
 "cells": [
  {
   "cell_type": "markdown",
   "metadata": {},
   "source": [
    "# Generative Adversarial Network (GAN)\n",
    "Since GANs were introduced in 2014 by Google Researcher Ian Goodfellow, the tech has been widely adopted in image generation and transfer. After some early wiry failures, GANs have made huge breakthroughs and can now produce highly convincing fake images of animals, landscapes, human faces, etc.\n",
    "\n",
    "Our GAN uses from the folowing project, however our GAN network uses Fully Connected layers and No Convolutions layers:\n",
    "\n",
    "-   Radford, Alec, Luke Metz, and Soumith Chintala. “Unsupervised Representation Learning with Deep Convolutional Generative Adversarial Networks.” ArXiv:1511.06434 [Cs], January 7, 2016. http://arxiv.org/abs/1511.06434"
   ]
  },
  {
   "cell_type": "markdown",
   "metadata": {},
   "source": [
    "-------------\n",
    "## Import necessary packages"
   ]
  },
  {
   "cell_type": "code",
   "execution_count": 14,
   "metadata": {
    "ExecuteTime": {
     "end_time": "2020-04-28T17:57:59.263150Z",
     "start_time": "2020-04-28T17:57:59.258731Z"
    }
   },
   "outputs": [],
   "source": [
    "import os\n",
    "import time\n",
    "import torch\n",
    "import torchvision\n",
    "import torch.nn as nn\n",
    "import torch.nn.parallel\n",
    "import torch.backends.cudnn\n",
    "from torchvision import transforms\n",
    "\n",
    "from PIL import Image\n",
    "from typing import Set\n",
    "import matplotlib.pyplot as plt\n",
    "\n",
    "%matplotlib inline"
   ]
  },
  {
   "cell_type": "markdown",
   "metadata": {},
   "source": [
    "-----\n",
    "## GPU Device Configuration\n",
    "Then, we set up and configure our computational devices: \n",
    "Whether we use GPU or perform the calculation on CPU.\n",
    "we use the torch.devices() and torch.cude.is_available() functions to configure our computational devices"
   ]
  },
  {
   "cell_type": "code",
   "execution_count": 15,
   "metadata": {
    "ExecuteTime": {
     "end_time": "2020-04-28T17:57:59.667570Z",
     "start_time": "2020-04-28T17:57:59.664238Z"
    }
   },
   "outputs": [
    {
     "name": "stdout",
     "output_type": "stream",
     "text": [
      "GPU training available\n",
      "Index of CUDA device in use is 0\n"
     ]
    }
   ],
   "source": [
    "device = None\n",
    "if torch.cuda.is_available():\n",
    "    # inbuilt cudnn auto-tuner searches for best algorithm for hardware\n",
    "    # cuddn.benchmark should be set to True when our input size does not vary\n",
    "    torch.backends.cudnn.benchmark = True\n",
    "    print(\"GPU training available\")\n",
    "    device = torch.device(\"cuda:0\")\n",
    "    print(f\"Index of CUDA device in use is {torch.cuda.current_device()}\")\n",
    "else:\n",
    "    print(\"GPU training NOT available\")\n",
    "    device = torch.device(\"cpu\")\n",
    "    print(\"Can only train on CPU\")"
   ]
  },
  {
   "cell_type": "markdown",
   "metadata": {},
   "source": [
    "-----\n",
    "## Configuration\n",
    "### Hyper parameters\n",
    "Set up Hyper Parameters that our model needs.\n",
    "\n",
    "We need to define several hyper parameters for our model:\n",
    "1. Latent size\n",
    "2. Hidden size\n",
    "3. Input image size\n",
    "4. Number of epochs\n",
    "5. Batch size\n",
    "6. Learning rate\n",
    "7  Beta1 for ADAM Optimizer\n",
    "8. Output Directory for generated images"
   ]
  },
  {
   "cell_type": "code",
   "execution_count": 16,
   "metadata": {
    "ExecuteTime": {
     "end_time": "2020-04-28T17:58:00.097667Z",
     "start_time": "2020-04-28T17:58:00.090476Z"
    }
   },
   "outputs": [],
   "source": [
    "class HyperParameter:\n",
    "    def __init__(\n",
    "        self,\n",
    "        latent_sz,\n",
    "        in_img_size,\n",
    "        in_img_channel=3,\n",
    "        data_dir=\"../data/img_align_celeba\",\n",
    "        output_dir=\"../generated_imgs\",\n",
    "        lr=0.0002,\n",
    "        beta1=0.5,\n",
    "        epochs=100,\n",
    "        batch_sz=64,\n",
    "        d_trained_wt_dir=\"../weights/discriminator_trained_weights\",\n",
    "        g_trained_wt_dir=\"../weights/generator_trained_weights\",\n",
    "    ):\n",
    "        self.latent_size = latent_sz\n",
    "        self.learning_rate = lr\n",
    "        self.beta1 = beta1\n",
    "\n",
    "        self.epochs = epochs\n",
    "        self.batch_size = batch_sz\n",
    "        self.input_img_channel = in_img_channel\n",
    "        self.input_img_size = in_img_size\n",
    "\n",
    "        self.discriminator_trained_weight_dir = d_trained_wt_dir\n",
    "        self.generator_trained_weight_dir = g_trained_wt_dir\n",
    "        self.output_dir = output_dir\n",
    "        self.data_dir = data_dir\n",
    "\n",
    "        os.makedirs(self.discriminator_trained_weight_dir, exist_ok=True)\n",
    "        os.makedirs(self.generator_trained_weight_dir, exist_ok=True)\n",
    "        os.makedirs(self.output_dir, exist_ok=True)\n",
    "\n",
    "    def __repr__(self):\n",
    "        return (\n",
    "            f\"latent_size: {self.latent_size}\\n\"\n",
    "            + f\"learning_rate: {self.learning_rate}\\n\"\n",
    "            + f\"beta1: {self.beta1}\\n\"\n",
    "            + f\"input_img_size: {self.input_img_size}\\n\"\n",
    "            + f\"input_img_channel: {self.input_img_channel}\\n\"\n",
    "            + f\"epochs: {self.epochs}\\n\"\n",
    "            + f\"batch_size: {self.batch_size}\\n\"\n",
    "            + f\"data_dir: {self.data_dir}\\n\"\n",
    "            + f\"output_dir: {self.output_dir}\\n\"\n",
    "            + f\"discriminator_trained_weight_dir: {self.discriminator_trained_weight_dir}\\n\"\n",
    "            + f\"generator_trained_weight_dir: {self.generator_trained_weight_dir}\\n\"\n",
    "        )"
   ]
  },
  {
   "cell_type": "markdown",
   "metadata": {},
   "source": [
    "The **Hyper Parameter Class can be set up like so**\n",
    "\n",
    "```python\n",
    "hyper_parms = HyperParameter(latent_sz=100, in_img_size=64, in_img_channel=3, output_dir=\"../generated_imgs\", lr=0.0002, beta1=0.5, epochs=100, batch_sz=64)\n",
    "```"
   ]
  },
  {
   "cell_type": "markdown",
   "metadata": {},
   "source": [
    "-----\n",
    "##  Image processing\n",
    "Then, we define a image preprocessing object that our dataloader can directly use this object to preprocess our data\n",
    "We use the pytorch API to preform the data processing.\n",
    "1. Use transforms.Compose()\n",
    "2. Use transforms.CenterCrop(160) \n",
    "3. Use transforms.Resize(64)\n"
   ]
  },
  {
   "cell_type": "code",
   "execution_count": 17,
   "metadata": {
    "ExecuteTime": {
     "end_time": "2020-04-28T17:58:00.684337Z",
     "start_time": "2020-04-28T17:58:00.681875Z"
    }
   },
   "outputs": [],
   "source": [
    "img_data_transform = transforms.Compose(\n",
    "    [\n",
    "        transforms.CenterCrop(160),\n",
    "        transforms.Resize(64),\n",
    "        transforms.ToTensor(),\n",
    "        transforms.Normalize((0.5, 0.5, 0.5), (0.5, 0.5, 0.5)),\n",
    "    ]\n",
    ")  # Normalizes imgs in the range [-1,1]"
   ]
  },
  {
   "cell_type": "markdown",
   "metadata": {},
   "source": [
    "-----\n",
    "##  Data Loading\n",
    "Next, we are going to load our data. \n",
    "### First, we need to prepare our data:\n",
    "#### we use the following command to download our data:\n",
    "\n",
    "```shell\n",
    "$ apt-get install p7zip-full # ubuntu\n",
    "\n",
    "$ brew install p7zip         # OSX\n",
    "\n",
    "$ python download.py\n",
    "```\n",
    "\n",
    "-----\n",
    "### Import the necessary library for data loading"
   ]
  },
  {
   "cell_type": "code",
   "execution_count": 18,
   "metadata": {
    "ExecuteTime": {
     "end_time": "2020-04-28T17:58:01.036723Z",
     "start_time": "2020-04-28T17:58:01.034022Z"
    }
   },
   "outputs": [],
   "source": [
    "import os.path\n",
    "from glob import glob\n",
    "from tqdm import tqdm\n",
    "\n",
    "import torch.utils.data as data\n",
    "from torch.utils.data.dataset import Dataset"
   ]
  },
  {
   "cell_type": "markdown",
   "metadata": {},
   "source": [
    "### We first define several helper functions that can help use to load each item in the dataset.\n",
    "\n",
    "1.   We first create a list that contains all image files.    '.jpg', '.JPG', '.jpeg', '.JPEG', '.png', '.PNG', '.ppm', '.PPM', '.bmp', '.BMP',.\n",
    "\n",
    "2.   We define function `is_image_file()` which takes the file name as the input:\n",
    "    <br />a. Return True if it is a valid image file else False\n",
    "    \n",
    "3.   We define `make_dataset()` function which takes a file path as the input:\n",
    "    <br />a. Go over the path and find files\n",
    "    <br />b. If it is a valid img file, store it to a list\n",
    "    <br />c. Return the list\n",
    "    \n",
    "4.   Finally, create a function that is called default_loader()\n",
    "    <br />a. that will open the image and convert it to the RGB using Image.open() and convert()"
   ]
  },
  {
   "cell_type": "markdown",
   "metadata": {},
   "source": [
    "## Utility Functions"
   ]
  },
  {
   "cell_type": "code",
   "execution_count": 19,
   "metadata": {
    "ExecuteTime": {
     "end_time": "2020-04-28T17:58:01.617747Z",
     "start_time": "2020-04-28T17:58:01.613623Z"
    }
   },
   "outputs": [],
   "source": [
    "VALID_IMG_EXTENSIONS = {\n",
    "    \".jpg\",\n",
    "    \".JPG\",\n",
    "    \".jpeg\",\n",
    "    \".JPEG\",\n",
    "    \".png\",\n",
    "    \".PNG\",\n",
    "    \".ppm\",\n",
    "    \".PPM\",\n",
    "    \".bmp\",\n",
    "    \".BMP\",\n",
    "}\n",
    "\n",
    "\n",
    "def _is_image_file(fpath, valid_img_ext: Set = VALID_IMG_EXTENSIONS) -> bool:\n",
    "    \"\"\"Validates if a file is an img file\"\"\"\n",
    "    _, img_ext = os.path.splitext(fpath)\n",
    "    return img_ext in valid_img_ext\n",
    "\n",
    "\n",
    "def make_img_dataset(root_dir, valid_img_ext: Set = VALID_IMG_EXTENSIONS):\n",
    "    \"\"\"Returns a list of valid img files after recursively chking in rootdir\"\"\"\n",
    "    img_dataset = []\n",
    "    for subdir, dirs, files in os.walk(root_dir):\n",
    "        for file in files:\n",
    "            if _is_image_file(file, valid_img_ext):\n",
    "                img_path = os.path.join(subdir, file)\n",
    "                img_dataset.append(img_path)\n",
    "\n",
    "    return img_dataset\n",
    "\n",
    "\n",
    "def default_loader(img):\n",
    "    \"\"\"Converts img file into RGB mode\"\"\"\n",
    "    try:\n",
    "        opened_img = Image.open(img)\n",
    "        return opened_img.convert(\"RGB\")\n",
    "    except Exception as e:\n",
    "        print(f\"Exception: {e}. Skipping {img}\")\n",
    "        return False"
   ]
  },
  {
   "cell_type": "markdown",
   "metadata": {},
   "source": [
    "### We then can use those helper functions to create our dataloader that load each item.  For this we creat a ImageDataset(data.Dataset) class\n",
    "\n",
    "1. This function is initialized with root, train transform, target transform and loader\n",
    "    <br /> a. We get all images using the utility functions we defined\n",
    "    <br /> b. If there are no valid images we raise an proper error\n",
    "    <br /> c. Print the length of valid data\n",
    "\n",
    "2. We need to define a __getitem__() function that take index as input\n",
    "    <br /> a. For the \"index\" element in the img list\n",
    "         i.   Apply the transform\n",
    "    <br /> b. Return the img and target.\n",
    "\n",
    "3. We define a __len__() function that retrun the length of the dataset"
   ]
  },
  {
   "cell_type": "code",
   "execution_count": 20,
   "metadata": {
    "ExecuteTime": {
     "end_time": "2020-04-28T17:58:02.017592Z",
     "start_time": "2020-04-28T17:58:02.014038Z"
    }
   },
   "outputs": [],
   "source": [
    "class ImageDataset(Dataset):\n",
    "    def __init__(\n",
    "        self, root_dir, transform=None, valid_img_ext: Set = VALID_IMG_EXTENSIONS\n",
    "    ):\n",
    "        self.transform = transform\n",
    "\n",
    "        self.face_dataset = make_img_dataset(root_dir, valid_img_ext)\n",
    "        if len(self.face_dataset) == 0:\n",
    "            raise IndexError(\"Face dataset is empty\")\n",
    "\n",
    "    def __len__(self):\n",
    "        return len(self.face_dataset)\n",
    "\n",
    "    def __getitem__(self, idx):\n",
    "        if torch.is_tensor(idx):\n",
    "            idx = idx.tolist()\n",
    "\n",
    "        img_path = self.face_dataset[idx]\n",
    "        image = Image.open(img_path)\n",
    "        if self.transform:\n",
    "            image = self.transform(image)\n",
    "\n",
    "        return image"
   ]
  },
  {
   "cell_type": "markdown",
   "metadata": {},
   "source": [
    "### We then define our data loader get_loader()\n",
    "#### This func has 5 arguments\n",
    "1. root\n",
    "2. batch size\n",
    "3. scale size (img_data_transform)\n",
    "4. number of workers\n",
    "5. shuffle\n",
    "\n",
    "<br /> We create a data_loader using torch.utils.data.DataLoader() with proper parameters"
   ]
  },
  {
   "cell_type": "code",
   "execution_count": 21,
   "metadata": {
    "ExecuteTime": {
     "end_time": "2020-04-28T17:58:02.760139Z",
     "start_time": "2020-04-28T17:58:02.757543Z"
    }
   },
   "outputs": [],
   "source": [
    "def get_data_loader(\n",
    "    root_data_dir,\n",
    "    data_transform=img_data_transform,\n",
    "    batch_size=64,\n",
    "    num_workers=2,\n",
    "    shuffle=True,\n",
    "    drop_last=True,\n",
    "):\n",
    "    \"\"\"\n",
    "    root_dir is the directory with the images\n",
    "    \"\"\"\n",
    "    face_dataset = ImageDataset(root_data_dir, data_transform)\n",
    "    data_loader = torch.utils.data.DataLoader(\n",
    "        face_dataset,\n",
    "        batch_size=batch_size,\n",
    "        num_workers=num_workers,\n",
    "        shuffle=shuffle,\n",
    "        drop_last=True,\n",
    "    )\n",
    "    return data_loader"
   ]
  },
  {
   "cell_type": "markdown",
   "metadata": {},
   "source": [
    "Then, we use the function above to load the data to data_loader variables which will be called before training our GAN\n",
    "\n",
    "```python\n",
    "train_data_loader = get_data_loader(hyper_parms.data_dir, batch_size=hyper_parms.batch_size, num_workers=5)\n",
    "```"
   ]
  },
  {
   "cell_type": "markdown",
   "metadata": {},
   "source": [
    "-----\n",
    "##  Network\n",
    "\n",
    "To design our GAN network, we use `nn.Sequential()` to stack several layers and activation functions\n",
    "\n",
    "### First, we create our Discriminator\n",
    "\n",
    "1. We use one Input layer, one Hidden layer and one Output layer. All of them are defined using nn.Linear() with proper input dim and out dim\n",
    "\n",
    "2. We adopt nn.LeakyReLU(0.2) as activation layer for the input and hidden layer. \n",
    "\n",
    "3. We use nn.Sigmoid() activation function for the output layer\n",
    "\n",
    "### Next, we make our Generator \n",
    "\n",
    "1. We need one Input layer, two Hidden layers and one Output layer. All of them are defined using nn.Linear() with proper input and output dimension\n",
    "\n",
    "2. We use nn.ReLU() as activation functions for the Input and Hidden layer. \n",
    "\n",
    "3. We use nn.Tanh() as activation function for the Output layer"
   ]
  },
  {
   "cell_type": "markdown",
   "metadata": {},
   "source": [
    "## Discriminator\n",
    "\n",
    "####  Structure of the Discriminator module as follow:\n",
    "\n",
    "1.\tThe input of the first linear layer is the image size (64), output of the first layer is 256\n",
    "2.\tThen followed by a LeakyReLU layer.\n",
    "3.\tThe input of the second layer is the 256 and output channel is 512\n",
    "4.\tFollowed by the LeakyReLU layer\n",
    "5.\tThe input of the third layer is the 512 and output channel is 512\n",
    "6.\tFollowed by the LeakyReLU layer\n",
    "7.\tThe input of the final layer is the 512 and output channel is 1\n",
    "8.\tThe sigmoid is activation function."
   ]
  },
  {
   "cell_type": "code",
   "execution_count": 22,
   "metadata": {
    "ExecuteTime": {
     "end_time": "2020-04-28T17:58:04.768785Z",
     "start_time": "2020-04-28T17:58:04.763527Z"
    }
   },
   "outputs": [],
   "source": [
    "class Discriminator(nn.Module):\n",
    "    def __init__(self, in_img_size=64, in_img_channels=3, n_gpu=1):\n",
    "        super(Discriminator, self).__init__()\n",
    "        self.n_gpu = n_gpu\n",
    "\n",
    "        self.main = nn.Sequential(\n",
    "            # Input size is input_img_size*input_img_size*3 (img_width, img_height, input_img_channels)\n",
    "            nn.Linear(in_img_size * in_img_size * in_img_channels, 256),\n",
    "            nn.LeakyReLU(),\n",
    "            nn.Linear(256, 512),\n",
    "            nn.LeakyReLU(),\n",
    "            nn.Linear(512, 1),\n",
    "            nn.Sigmoid(),\n",
    "        )\n",
    "\n",
    "    def forward(self, X):\n",
    "        if X.is_cuda and self.n_gpu > 1:\n",
    "            output = nn.parallel.data_parallel(self.main, X, range(self.n_gpu))\n",
    "        else:\n",
    "            output = self.main(X)\n",
    "        return output"
   ]
  },
  {
   "cell_type": "markdown",
   "metadata": {},
   "source": [
    "## Generator \n",
    "\n",
    "#### Structure of the Generator module as follow:\n",
    "\n",
    "1.\tThe input of the first linear layer is the latent vector size, output of the first layer is 256\n",
    "2.\tThen followed by a ReLU layer.\n",
    "3.\tThe input of the second layer is the 256 and output channel is 512\n",
    "4.\tFollowed by the ReLU layer\n",
    "5.\tThe input of the third layer is the 512 and output channel is 1024\n",
    "6.\tFollowed by the ReLU layer\n",
    "7.\tThe input of the fourth layer is the 1024 and output channel is 1024\n",
    "8.\tFollowed by the ReLU layer\n",
    "9.\tThe input of the final layer is the 1024 and output channel is the image size.\n",
    "10.\tThe Tanh is activation function.\n"
   ]
  },
  {
   "cell_type": "code",
   "execution_count": 23,
   "metadata": {
    "ExecuteTime": {
     "end_time": "2020-04-28T17:58:05.840221Z",
     "start_time": "2020-04-28T17:58:05.834710Z"
    }
   },
   "outputs": [],
   "source": [
    "class Generator(nn.Module):\n",
    "    def __init__(self, latent_vector_size, in_img_size=64, in_img_channels=3, n_gpu=1):\n",
    "        super(Generator, self).__init__()\n",
    "        self.n_gpu = n_gpu\n",
    "\n",
    "        self.main = nn.Sequential(\n",
    "            # laten vector reprs the latent space\n",
    "            nn.Linear(latent_vector_size, 256),\n",
    "            nn.ReLU(),\n",
    "            nn.Linear(256, 512),\n",
    "            nn.ReLU(),\n",
    "            nn.Linear(512, 1024),\n",
    "            nn.ReLU(),\n",
    "            nn.Linear(1024, 1024),\n",
    "            nn.ReLU(),\n",
    "            nn.Linear(1024, in_img_size * in_img_size * in_img_channels),\n",
    "            nn.Tanh(),\n",
    "        )\n",
    "\n",
    "    def forward(self, X):\n",
    "        if X.is_cuda and self.n_gpu > 1:\n",
    "            output = nn.parallel.data_parallel(self.main, X, range(self.n_gpu))\n",
    "        else:\n",
    "            output = self.main(X)\n",
    "        return output"
   ]
  },
  {
   "cell_type": "markdown",
   "metadata": {},
   "source": [
    "## GAN "
   ]
  },
  {
   "cell_type": "code",
   "execution_count": 24,
   "metadata": {
    "ExecuteTime": {
     "end_time": "2020-04-28T17:58:07.014152Z",
     "start_time": "2020-04-28T17:58:07.000011Z"
    }
   },
   "outputs": [],
   "source": [
    "class GAN:\n",
    "    \"\"\"\n",
    "    GAN Class with fit method that trains the GAN\n",
    "    \"\"\"\n",
    "\n",
    "    def __init__(\n",
    "        self,\n",
    "        hyper_parameter,\n",
    "        load_wt=True,\n",
    "        save_wt=True,\n",
    "        save_wt_interval=10,\n",
    "        save_img_interval=50,\n",
    "    ):\n",
    "        self.hp = hyper_parameter\n",
    "        self.G_net = Generator(self.hp.latent_size, self.hp.input_img_size).to(device)\n",
    "        self.D_net = Discriminator(self.hp.input_img_size).to(device)\n",
    "        self.D_loss_overtime = []\n",
    "        self.G_loss_overtime = []\n",
    "\n",
    "        if load_wt:\n",
    "            self._load_saved_weights()\n",
    "        # Binary Cross Entropy Loss\n",
    "        self.criterion = nn.BCELoss()\n",
    "\n",
    "        # Optimizers\n",
    "        self.G_optimizer = torch.optim.Adam(\n",
    "            self.G_net.parameters(),\n",
    "            lr=self.hp.learning_rate,\n",
    "            betas=(self.hp.beta1, 0.999),\n",
    "        )\n",
    "        self.D_optimizer = torch.optim.Adam(\n",
    "            self.D_net.parameters(),\n",
    "            lr=self.hp.learning_rate,\n",
    "            betas=(self.hp.beta1, 0.999),\n",
    "        )\n",
    "\n",
    "    def _load_saved_weights(self):\n",
    "        D_weight_files = glob(self.hp.discriminator_trained_weight_dir + \"/*.pt\")\n",
    "        if D_weight_files:\n",
    "            latest_D_wt = max(D_weight_files, key=os.path.getctime)\n",
    "            print(f\"Loading weight {latest_D_wt} for Discriminator\")\n",
    "            self.D_net.load_state_dict(torch.load(latest_D_wt))\n",
    "            self.D_net.eval()\n",
    "\n",
    "        G_weight_files = glob(self.hp.generator_trained_weight_dir + \"/*.pt\")\n",
    "        if G_weight_files:\n",
    "            latest_G_wt = max(G_weight_files, key=os.path.getctime)\n",
    "            print(f\"Loading weight {latest_G_wt} for Generator\")\n",
    "            self.G_net.load_state_dict(torch.load(latest_G_wt))\n",
    "            self.G_net.eval()\n",
    "\n",
    "    @staticmethod\n",
    "    def denorm(X):\n",
    "        \"\"\"This is the denorm when norm is done with transforms.Normalize((0.5, 0.5, 0.5), (0.5, 0.5, 0.5))\"\"\"\n",
    "        out = (X + 1) / 2\n",
    "        return out.clamp(0, 1)\n",
    "\n",
    "    @staticmethod\n",
    "    def plot_gan_loss(G_loss, D_loss, save_dir=\"../loss_curves\"):\n",
    "        plt.plot(G_loss, label=\"Generator Loss\")\n",
    "        plt.plot(D_loss, label=\"Discriminator Loss\")\n",
    "        plt.title(\"GAN Loss\")\n",
    "        plt.ylabel(\"BCE Loss\")\n",
    "        plt.xlabel(\"Iterations (x10)\")\n",
    "        plt.legend()\n",
    "\n",
    "        os.makedirs(save_dir, exist_ok=True)\n",
    "        plt.savefig(f\"{save_dir}/{time.time()}_GAN_loss.png\")\n",
    "        plt.show()\n",
    "\n",
    "    def plot_loss(self):\n",
    "        GAN.plot_gan_loss(self.G_loss_overtime, self.D_loss_overtime)\n",
    "\n",
    "    def fit(\n",
    "        self, train_data_loader, save_wt=True, save_img_interval=50, save_wt_interval=10\n",
    "    ):\n",
    "        # Generator uses this noise to generate the images in the dataset for benchmarking\n",
    "        fixed_noise = torch.randn(\n",
    "            self.hp.batch_size, self.hp.latent_size, device=device\n",
    "        )\n",
    "\n",
    "        for epoch in tqdm(range(self.hp.epochs)):\n",
    "            d_running_loss, g_running_loss = 0, 0\n",
    "\n",
    "            # mini-batch training\n",
    "            for idx, data in enumerate(train_data_loader):\n",
    "                # set to (64, -1) -1 should be equi to img_sz * img_sz * img_ch\n",
    "                X_data = data.reshape(self.hp.batch_size, -1)\n",
    "                X_data = X_data.to(device)\n",
    "\n",
    "                # real_label = 1, fake_label = 0\n",
    "                real_labels = torch.ones(self.hp.batch_size, 1).to(device)\n",
    "                fake_labels = torch.zeros(self.hp.batch_size, 1).to(device)\n",
    "\n",
    "                ### Train Discriminator which maximizes log(D(x)) + log(1 - D(G(z))) ###\n",
    "                # Using real images\n",
    "                self.D_net.zero_grad()\n",
    "                D_real_output = self.D_net(X_data)  # feedforward\n",
    "                D_real_loss = self.criterion(D_real_output, real_labels)  # cal loss\n",
    "                D_real_loss.backward()\n",
    "\n",
    "                # Using fake images\n",
    "                noise = torch.randn(\n",
    "                    self.hp.batch_size, self.hp.latent_size, device=device\n",
    "                )\n",
    "                G_fake_output = self.G_net(noise)  # feedforward\n",
    "                D_fake_output = self.D_net(G_fake_output.detach())\n",
    "                D_fake_loss = self.criterion(D_fake_output, fake_labels)\n",
    "                D_fake_loss.backward()\n",
    "\n",
    "                D_loss = D_real_loss + D_fake_loss\n",
    "                self.D_optimizer.step()\n",
    "\n",
    "                ### Train Generator which maximizes log(D(G(z))) as Gradient Descent is expensive ###\n",
    "                self.G_net.zero_grad()\n",
    "                G_output = self.D_net(G_fake_output)\n",
    "                G_loss = self.criterion(G_output, real_labels)\n",
    "                G_loss.backward()\n",
    "                self.G_optimizer.step()\n",
    "\n",
    "                d_running_loss += D_loss.item()\n",
    "                g_running_loss += G_loss.item()\n",
    "                fmt_epoch = \"{:04d}\".format(epoch)\n",
    "                fmt_idx = \"{:04d}\".format(idx)\n",
    "\n",
    "                if idx % save_img_interval == 0:\n",
    "                    # Real image\n",
    "                    torchvision.utils.save_image(\n",
    "                        data,\n",
    "                        f\"{self.hp.output_dir}/{fmt_epoch}_{fmt_idx}_real_samples.png\",\n",
    "                        normalize=True,\n",
    "                    )\n",
    "                    # Generated fake image\n",
    "                    fake_gen = self.G_net(fixed_noise)\n",
    "                    fake_gen = GAN.denorm(\n",
    "                        fake_gen.reshape(\n",
    "                            self.hp.batch_size,\n",
    "                            3,\n",
    "                            self.hp.input_img_size,\n",
    "                            self.hp.input_img_size,\n",
    "                        )\n",
    "                    )\n",
    "                    torchvision.utils.save_image(\n",
    "                        fake_gen,\n",
    "                        f\"{self.hp.output_dir}/{fmt_epoch}_{fmt_idx}_fake_samples.png\",\n",
    "                        normalize=True,\n",
    "                    )\n",
    "\n",
    "                if idx % 20 == 0:\n",
    "                    print(\n",
    "                        f\"Discriminator Loss at epoch: {epoch}, iter {idx} = {D_loss.item()}\"\n",
    "                    )\n",
    "                    print(\n",
    "                        f\"Generator Loss at epoch: {epoch}, iter {idx} = {G_loss.item()}\"\n",
    "                    )\n",
    "\n",
    "                    d_avg_running_loss = d_running_loss / max(1, idx)\n",
    "                    g_avg_running_loss = g_running_loss / max(1, idx)\n",
    "                    self.D_loss_overtime.append(d_avg_running_loss)\n",
    "                    self.G_loss_overtime.append(g_avg_running_loss)\n",
    "\n",
    "                # Save checkpoint weights\n",
    "                if save_wt and idx % save_wt_interval == 0:\n",
    "                    torch.save(\n",
    "                        self.D_net.state_dict(),\n",
    "                        self.hp.discriminator_trained_weight_dir\n",
    "                        + f\"/dnet_epoch_{fmt_epoch}_iter_{fmt_idx}.pt\",\n",
    "                    )\n",
    "                    torch.save(\n",
    "                        self.G_net.state_dict(),\n",
    "                        self.hp.generator_trained_weight_dir\n",
    "                        + f\"/gnet_epoch_{fmt_epoch}_iter_{fmt_idx}.pt\",\n",
    "                    )"
   ]
  },
  {
   "cell_type": "markdown",
   "metadata": {},
   "source": [
    "________\n",
    "\n",
    "# GAN TRAIN SECTION\n",
    "\n",
    "First we break down the `GAN.fit(...)` method and run functions one after another\n",
    "________"
   ]
  },
  {
   "cell_type": "code",
   "execution_count": 25,
   "metadata": {
    "ExecuteTime": {
     "end_time": "2020-04-28T17:58:08.434439Z",
     "start_time": "2020-04-28T17:58:08.254184Z"
    }
   },
   "outputs": [],
   "source": [
    "hyper_parms = HyperParameter(\n",
    "    latent_sz=100,\n",
    "    in_img_size=64,\n",
    "    in_img_channel=3,\n",
    "    output_dir=\"../latestgenerated_imgs\",\n",
    "    lr=0.0002,\n",
    "    beta1=0.5,\n",
    "    epochs=100,\n",
    "    batch_sz=64,\n",
    ")"
   ]
  },
  {
   "cell_type": "markdown",
   "metadata": {},
   "source": [
    "### Next, we send the network to the target device"
   ]
  },
  {
   "cell_type": "code",
   "execution_count": 26,
   "metadata": {
    "ExecuteTime": {
     "end_time": "2020-04-28T17:58:10.939802Z",
     "start_time": "2020-04-28T17:58:08.981248Z"
    }
   },
   "outputs": [],
   "source": [
    "G_net = Generator(hyper_parms.latent_size, hyper_parms.input_img_size).to(device)\n",
    "D_net = Discriminator(hyper_parms.input_img_size).to(device)"
   ]
  },
  {
   "cell_type": "markdown",
   "metadata": {},
   "source": [
    "### Load saved weights for the Generator and the Discriminator if they are available"
   ]
  },
  {
   "cell_type": "code",
   "execution_count": 27,
   "metadata": {
    "ExecuteTime": {
     "end_time": "2020-04-28T17:58:14.294659Z",
     "start_time": "2020-04-28T17:58:10.940820Z"
    }
   },
   "outputs": [
    {
     "name": "stdout",
     "output_type": "stream",
     "text": [
      "Loading weight ../discriminator_trained_weights/dnet_epoch_9_iter_1750.pt for Discriminator\n",
      "Loading weight ../generator_trained_weights/gnet_epoch_9_iter_1750.pt for Generator\n"
     ]
    }
   ],
   "source": [
    "D_weight_files = glob(hyper_parms.discriminator_trained_weight_dir + \"/*.pt\")\n",
    "if D_weight_files:\n",
    "    latest_D_wt = max(D_weight_files, key=os.path.getctime)\n",
    "    print(f\"Loading weight {latest_D_wt} for Discriminator\")\n",
    "    D_net.load_state_dict(torch.load(latest_D_wt))\n",
    "    D_net.eval()\n",
    "\n",
    "G_weight_files = glob(hyper_parms.generator_trained_weight_dir + \"/*.pt\")\n",
    "if G_weight_files:\n",
    "    latest_G_wt = max(G_weight_files, key=os.path.getctime)\n",
    "    G_net.load_state_dict(torch.load(latest_G_wt))\n",
    "    print(f\"Loading weight {latest_G_wt} for Generator\")\n",
    "    G_net.eval()"
   ]
  },
  {
   "cell_type": "markdown",
   "metadata": {},
   "source": [
    "### Set the Loss function and Optimizer with proper netwrok parameters and learning rates\n",
    "\n",
    "-   Binary Cross Entropy Loss\n",
    "-   ADAM Optimizer"
   ]
  },
  {
   "cell_type": "code",
   "execution_count": 28,
   "metadata": {
    "ExecuteTime": {
     "end_time": "2020-04-28T17:58:14.301826Z",
     "start_time": "2020-04-28T17:58:14.299073Z"
    }
   },
   "outputs": [],
   "source": [
    "# Loss\n",
    "criterion = nn.BCELoss()\n",
    "\n",
    "# Optimizers\n",
    "G_optimizer = torch.optim.Adam(\n",
    "    G_net.parameters(), lr=hyper_parms.learning_rate, betas=(hyper_parms.beta1, 0.999)\n",
    ")\n",
    "D_optimizer = torch.optim.Adam(\n",
    "    D_net.parameters(), lr=hyper_parms.learning_rate, betas=(hyper_parms.beta1, 0.999)\n",
    ")\n",
    "\n",
    "# Generator uses this noise to generate the images in the dataset for benchmarking\n",
    "fixed_noise = torch.randn(\n",
    "    hyper_parms.batch_size, hyper_parms.latent_size, device=device\n",
    ")"
   ]
  },
  {
   "cell_type": "markdown",
   "metadata": {},
   "source": [
    "-----\n",
    "##  Training\n",
    "\n",
    "### Helper Function\n",
    "\n",
    "1. Denorm function using clamp() api from pytorch https://pytorch.org/docs/stable/torch.html?highlight=clamp#torch.clamp"
   ]
  },
  {
   "cell_type": "code",
   "execution_count": 29,
   "metadata": {
    "ExecuteTime": {
     "end_time": "2020-04-28T17:58:14.335544Z",
     "start_time": "2020-04-28T17:58:14.302633Z"
    }
   },
   "outputs": [],
   "source": [
    "# De-normalization\n",
    "def denorm(x):\n",
    "    out = (x + 1) / 2\n",
    "    return out.clamp(0, 1)"
   ]
  },
  {
   "cell_type": "markdown",
   "metadata": {},
   "source": [
    "### Training\n",
    "1. Store the total steps which is equal to the length of data_loader\n",
    "2. for each epoch\n",
    "    <br/> a. for each element index and element in the data loader\n",
    "        i. Reshape the input data to (batch_size，-1) and send to the proper device\n",
    "        ii. Then we create the real and fake labels which are later used as input for the BCE loss using torch.ones(batch_size, 1).to(device) and torch.zeros(batch_size, 1).to(device)\n",
    "        iii. Then we train the descriminator\n",
    "            A. Feedforward and store the predictions of discriminator\n",
    "            B. Compute BCE_Loss using real images and store the loss\n",
    "            C. Random init a latent code z\n",
    "            D. Feedforward and store the predictions of generator\n",
    "            E. Feed the predictions to the descriminator and store the prediction\n",
    "            F. Compute BCELoss using fake images and store the loss\n",
    "            G. Backprop the losses after reseting the optimizer gradients\n",
    "        iv. Then we train the generator\n",
    "            A. using torch.randn(batch_size, latent_size).to(device) to init a z\n",
    "            B. Feedforward and store the predictions of generator\n",
    "            C. feed the predictions to the descriminator and sotre the prediction\n",
    "            D. compute BCE_Loss using real images and store the loss\n",
    "            F. perform the backprop using losses after that reset the gradient of optimizer.\n",
    "        v. After some epochs/iterations, we print logs with proper info\n",
    "        \n",
    "    <br/> b. We store all real image batches with shape (batch_size, 3, img_size, img_size) inoder for the further comparision only once\n",
    "    <br/> c. We save the fake image batches with image shape (batch_size, 3, img_size, img_size) and denorm() function \n",
    "3. Save the model checkpoints using torch.save()\n"
   ]
  },
  {
   "cell_type": "code",
   "execution_count": 30,
   "metadata": {
    "ExecuteTime": {
     "end_time": "2020-04-28T17:58:15.598254Z",
     "start_time": "2020-04-28T17:58:15.594011Z"
    }
   },
   "outputs": [
    {
     "data": {
      "text/plain": [
       "latent_size: 100\n",
       "learning_rate: 0.0002\n",
       "beta1: 0.5\n",
       "input_img_size: 64\n",
       "input_img_channel: 3\n",
       "epochs: 100\n",
       "batch_size: 64\n",
       "data_dir: ../data/img_align_celeba\n",
       "output_dir: ../latestgenerated_imgs\n",
       "discriminator_trained_weight_dir: ../discriminator_trained_weights\n",
       "generator_trained_weight_dir: ../generator_trained_weights"
      ]
     },
     "execution_count": 30,
     "metadata": {},
     "output_type": "execute_result"
    }
   ],
   "source": [
    "hyper_parms"
   ]
  },
  {
   "cell_type": "code",
   "execution_count": null,
   "metadata": {
    "ExecuteTime": {
     "start_time": "2020-04-28T17:58:17.080Z"
    }
   },
   "outputs": [
    {
     "name": "stderr",
     "output_type": "stream",
     "text": [
      "\r",
      "  0%|          | 0/100 [00:00<?, ?it/s]"
     ]
    },
    {
     "name": "stdout",
     "output_type": "stream",
     "text": [
      "Discriminator Loss at epoch: 0, iter 0 = 1.3257914781570435\n",
      "Generator Loss at epoch: 0, iter 0 = 0.8346496224403381\n"
     ]
    },
    {
     "name": "stderr",
     "output_type": "stream",
     "text": [
      "  2%|▏         | 2/100 [00:04<04:04,  2.49s/it]"
     ]
    },
    {
     "name": "stdout",
     "output_type": "stream",
     "text": [
      "Discriminator Loss at epoch: 1, iter 0 = 1.2147197723388672\n",
      "Generator Loss at epoch: 1, iter 0 = 0.9148199558258057\n"
     ]
    },
    {
     "name": "stderr",
     "output_type": "stream",
     "text": [
      "\r",
      "  3%|▎         | 3/100 [00:05<03:19,  2.06s/it]"
     ]
    },
    {
     "name": "stdout",
     "output_type": "stream",
     "text": [
      "Discriminator Loss at epoch: 2, iter 0 = 1.2867521047592163\n",
      "Generator Loss at epoch: 2, iter 0 = 0.8181997537612915\n"
     ]
    },
    {
     "name": "stderr",
     "output_type": "stream",
     "text": [
      "\r",
      "  4%|▍         | 4/100 [00:06<02:58,  1.86s/it]"
     ]
    },
    {
     "name": "stdout",
     "output_type": "stream",
     "text": [
      "Discriminator Loss at epoch: 3, iter 0 = 1.2235809564590454\n",
      "Generator Loss at epoch: 3, iter 0 = 0.8619502186775208\n"
     ]
    },
    {
     "name": "stderr",
     "output_type": "stream",
     "text": [
      "\r",
      "  5%|▌         | 5/100 [00:09<03:12,  2.02s/it]"
     ]
    },
    {
     "name": "stdout",
     "output_type": "stream",
     "text": [
      "Discriminator Loss at epoch: 4, iter 0 = 1.142781138420105\n",
      "Generator Loss at epoch: 4, iter 0 = 0.9364144802093506\n"
     ]
    },
    {
     "name": "stderr",
     "output_type": "stream",
     "text": [
      "\r",
      "  6%|▌         | 6/100 [00:10<02:47,  1.78s/it]"
     ]
    },
    {
     "name": "stdout",
     "output_type": "stream",
     "text": [
      "Discriminator Loss at epoch: 5, iter 0 = 1.0960896015167236\n",
      "Generator Loss at epoch: 5, iter 0 = 0.9810068607330322\n"
     ]
    },
    {
     "name": "stderr",
     "output_type": "stream",
     "text": [
      "\r",
      "  7%|▋         | 7/100 [00:11<02:30,  1.62s/it]"
     ]
    },
    {
     "name": "stdout",
     "output_type": "stream",
     "text": [
      "Discriminator Loss at epoch: 6, iter 0 = 1.1088224649429321\n",
      "Generator Loss at epoch: 6, iter 0 = 0.9580832719802856\n"
     ]
    },
    {
     "name": "stderr",
     "output_type": "stream",
     "text": [
      "\r",
      "  8%|▊         | 8/100 [00:13<02:26,  1.59s/it]"
     ]
    },
    {
     "name": "stdout",
     "output_type": "stream",
     "text": [
      "Discriminator Loss at epoch: 7, iter 0 = 1.0548018217086792\n",
      "Generator Loss at epoch: 7, iter 0 = 1.0011403560638428\n"
     ]
    },
    {
     "name": "stderr",
     "output_type": "stream",
     "text": [
      "\r",
      "  9%|▉         | 9/100 [00:15<02:53,  1.91s/it]"
     ]
    },
    {
     "name": "stdout",
     "output_type": "stream",
     "text": [
      "Discriminator Loss at epoch: 8, iter 0 = 1.0158321857452393\n",
      "Generator Loss at epoch: 8, iter 0 = 0.9954937696456909\n"
     ]
    },
    {
     "name": "stderr",
     "output_type": "stream",
     "text": [
      "\r",
      " 10%|█         | 10/100 [00:16<02:28,  1.65s/it]"
     ]
    },
    {
     "name": "stdout",
     "output_type": "stream",
     "text": [
      "Discriminator Loss at epoch: 9, iter 0 = 0.9912300109863281\n",
      "Generator Loss at epoch: 9, iter 0 = 1.0269383192062378\n",
      "Discriminator Loss at epoch: 10, iter 0 = 0.9836949110031128\n",
      "Generator Loss at epoch: 10, iter 0 = 1.091097354888916\n"
     ]
    },
    {
     "name": "stderr",
     "output_type": "stream",
     "text": [
      " 12%|█▏        | 12/100 [00:20<02:38,  1.80s/it]"
     ]
    },
    {
     "name": "stdout",
     "output_type": "stream",
     "text": [
      "Discriminator Loss at epoch: 11, iter 0 = 0.9668639302253723\n",
      "Generator Loss at epoch: 11, iter 0 = 1.0824030637741089\n"
     ]
    },
    {
     "name": "stderr",
     "output_type": "stream",
     "text": [
      "\r",
      " 13%|█▎        | 13/100 [00:23<03:00,  2.07s/it]"
     ]
    },
    {
     "name": "stdout",
     "output_type": "stream",
     "text": [
      "Discriminator Loss at epoch: 12, iter 0 = 0.9641678333282471\n",
      "Generator Loss at epoch: 12, iter 0 = 1.1020069122314453\n"
     ]
    },
    {
     "name": "stderr",
     "output_type": "stream",
     "text": [
      "\r",
      " 14%|█▍        | 14/100 [00:24<02:32,  1.77s/it]"
     ]
    },
    {
     "name": "stdout",
     "output_type": "stream",
     "text": [
      "Discriminator Loss at epoch: 13, iter 0 = 0.9248948097229004\n",
      "Generator Loss at epoch: 13, iter 0 = 1.167647123336792\n"
     ]
    },
    {
     "name": "stderr",
     "output_type": "stream",
     "text": [
      "\r",
      " 15%|█▌        | 15/100 [00:25<02:13,  1.58s/it]"
     ]
    },
    {
     "name": "stdout",
     "output_type": "stream",
     "text": [
      "Discriminator Loss at epoch: 14, iter 0 = 0.8835282921791077\n",
      "Generator Loss at epoch: 14, iter 0 = 1.2165756225585938\n"
     ]
    },
    {
     "name": "stderr",
     "output_type": "stream",
     "text": [
      "\r",
      " 16%|█▌        | 16/100 [00:27<02:05,  1.50s/it]"
     ]
    },
    {
     "name": "stdout",
     "output_type": "stream",
     "text": [
      "Discriminator Loss at epoch: 15, iter 0 = 0.8637958765029907\n",
      "Generator Loss at epoch: 15, iter 0 = 1.1972601413726807\n"
     ]
    },
    {
     "name": "stderr",
     "output_type": "stream",
     "text": [
      "\r",
      " 17%|█▋        | 17/100 [00:29<02:27,  1.77s/it]"
     ]
    },
    {
     "name": "stdout",
     "output_type": "stream",
     "text": [
      "Discriminator Loss at epoch: 16, iter 0 = 0.8864328861236572\n",
      "Generator Loss at epoch: 16, iter 0 = 1.138922929763794\n"
     ]
    },
    {
     "name": "stderr",
     "output_type": "stream",
     "text": [
      "\r",
      " 18%|█▊        | 18/100 [00:30<02:12,  1.61s/it]"
     ]
    },
    {
     "name": "stdout",
     "output_type": "stream",
     "text": [
      "Discriminator Loss at epoch: 17, iter 0 = 0.8553178906440735\n",
      "Generator Loss at epoch: 17, iter 0 = 1.180738925933838\n"
     ]
    },
    {
     "name": "stderr",
     "output_type": "stream",
     "text": [
      "\r",
      " 19%|█▉        | 19/100 [00:31<01:56,  1.43s/it]"
     ]
    },
    {
     "name": "stdout",
     "output_type": "stream",
     "text": [
      "Discriminator Loss at epoch: 18, iter 0 = 0.9175482988357544\n",
      "Generator Loss at epoch: 18, iter 0 = 1.1873100996017456\n"
     ]
    },
    {
     "name": "stderr",
     "output_type": "stream",
     "text": [
      "\r",
      " 20%|██        | 20/100 [00:32<01:47,  1.34s/it]"
     ]
    },
    {
     "name": "stdout",
     "output_type": "stream",
     "text": [
      "Discriminator Loss at epoch: 19, iter 0 = 0.8326940536499023\n",
      "Generator Loss at epoch: 19, iter 0 = 1.2531999349594116\n",
      "Discriminator Loss at epoch: 20, iter 0 = 0.8298884034156799\n",
      "Generator Loss at epoch: 20, iter 0 = 1.2481331825256348\n"
     ]
    },
    {
     "name": "stderr",
     "output_type": "stream",
     "text": [
      " 22%|██▏       | 22/100 [00:38<02:34,  1.98s/it]"
     ]
    },
    {
     "name": "stdout",
     "output_type": "stream",
     "text": [
      "Discriminator Loss at epoch: 21, iter 0 = 0.8824440836906433\n",
      "Generator Loss at epoch: 21, iter 0 = 1.1576240062713623\n"
     ]
    },
    {
     "name": "stderr",
     "output_type": "stream",
     "text": [
      "\r",
      " 23%|██▎       | 23/100 [00:39<02:11,  1.70s/it]"
     ]
    },
    {
     "name": "stdout",
     "output_type": "stream",
     "text": [
      "Discriminator Loss at epoch: 22, iter 0 = 0.8574748039245605\n",
      "Generator Loss at epoch: 22, iter 0 = 1.275324821472168\n"
     ]
    },
    {
     "name": "stderr",
     "output_type": "stream",
     "text": [
      "\r",
      " 24%|██▍       | 24/100 [00:40<01:59,  1.57s/it]"
     ]
    },
    {
     "name": "stdout",
     "output_type": "stream",
     "text": [
      "Discriminator Loss at epoch: 23, iter 0 = 0.8776691555976868\n",
      "Generator Loss at epoch: 23, iter 0 = 1.2683610916137695\n"
     ]
    },
    {
     "name": "stderr",
     "output_type": "stream",
     "text": [
      "\r",
      " 25%|██▌       | 25/100 [00:41<01:46,  1.41s/it]"
     ]
    },
    {
     "name": "stdout",
     "output_type": "stream",
     "text": [
      "Discriminator Loss at epoch: 24, iter 0 = 0.7888699173927307\n",
      "Generator Loss at epoch: 24, iter 0 = 1.3327516317367554\n"
     ]
    },
    {
     "name": "stderr",
     "output_type": "stream",
     "text": [
      "\r",
      " 26%|██▌       | 26/100 [00:45<02:29,  2.03s/it]"
     ]
    },
    {
     "name": "stdout",
     "output_type": "stream",
     "text": [
      "Discriminator Loss at epoch: 25, iter 0 = 0.8059048652648926\n",
      "Generator Loss at epoch: 25, iter 0 = 1.2763923406600952\n"
     ]
    },
    {
     "name": "stderr",
     "output_type": "stream",
     "text": [
      "\r",
      " 27%|██▋       | 27/100 [00:46<02:09,  1.78s/it]"
     ]
    },
    {
     "name": "stdout",
     "output_type": "stream",
     "text": [
      "Discriminator Loss at epoch: 26, iter 0 = 0.7947536706924438\n",
      "Generator Loss at epoch: 26, iter 0 = 1.2923810482025146\n"
     ]
    },
    {
     "name": "stderr",
     "output_type": "stream",
     "text": [
      "\r",
      " 28%|██▊       | 28/100 [00:47<01:54,  1.60s/it]"
     ]
    },
    {
     "name": "stdout",
     "output_type": "stream",
     "text": [
      "Discriminator Loss at epoch: 27, iter 0 = 0.7995351552963257\n",
      "Generator Loss at epoch: 27, iter 0 = 1.267259955406189\n"
     ]
    },
    {
     "name": "stderr",
     "output_type": "stream",
     "text": [
      "\r",
      " 29%|██▉       | 29/100 [00:48<01:41,  1.43s/it]"
     ]
    },
    {
     "name": "stdout",
     "output_type": "stream",
     "text": [
      "Discriminator Loss at epoch: 28, iter 0 = 0.7956447601318359\n",
      "Generator Loss at epoch: 28, iter 0 = 1.3212770223617554\n"
     ]
    },
    {
     "name": "stderr",
     "output_type": "stream",
     "text": [
      "\r",
      " 30%|███       | 30/100 [00:51<02:03,  1.76s/it]"
     ]
    },
    {
     "name": "stdout",
     "output_type": "stream",
     "text": [
      "Discriminator Loss at epoch: 29, iter 0 = 0.7475034594535828\n",
      "Generator Loss at epoch: 29, iter 0 = 1.3767213821411133\n",
      "Discriminator Loss at epoch: 30, iter 0 = 0.7726170420646667\n",
      "Generator Loss at epoch: 30, iter 0 = 1.3004965782165527\n"
     ]
    },
    {
     "name": "stderr",
     "output_type": "stream",
     "text": [
      " 32%|███▏      | 32/100 [00:55<02:04,  1.83s/it]"
     ]
    },
    {
     "name": "stdout",
     "output_type": "stream",
     "text": [
      "Discriminator Loss at epoch: 31, iter 0 = 0.744907796382904\n",
      "Generator Loss at epoch: 31, iter 0 = 1.3595030307769775\n"
     ]
    },
    {
     "name": "stderr",
     "output_type": "stream",
     "text": [
      "\r",
      " 33%|███▎      | 33/100 [00:56<01:49,  1.64s/it]"
     ]
    },
    {
     "name": "stdout",
     "output_type": "stream",
     "text": [
      "Discriminator Loss at epoch: 32, iter 0 = 0.7780149579048157\n",
      "Generator Loss at epoch: 32, iter 0 = 1.3337839841842651\n"
     ]
    },
    {
     "name": "stderr",
     "output_type": "stream",
     "text": [
      "\r",
      " 34%|███▍      | 34/100 [00:59<02:09,  1.96s/it]"
     ]
    },
    {
     "name": "stdout",
     "output_type": "stream",
     "text": [
      "Discriminator Loss at epoch: 33, iter 0 = 0.7163040041923523\n",
      "Generator Loss at epoch: 33, iter 0 = 1.457470178604126\n"
     ]
    },
    {
     "name": "stderr",
     "output_type": "stream",
     "text": [
      "\r",
      " 35%|███▌      | 35/100 [01:00<01:52,  1.73s/it]"
     ]
    },
    {
     "name": "stdout",
     "output_type": "stream",
     "text": [
      "Discriminator Loss at epoch: 34, iter 0 = 0.6722465753555298\n",
      "Generator Loss at epoch: 34, iter 0 = 1.4397534132003784\n"
     ]
    },
    {
     "name": "stderr",
     "output_type": "stream",
     "text": [
      "\r",
      " 36%|███▌      | 36/100 [01:01<01:39,  1.55s/it]"
     ]
    },
    {
     "name": "stdout",
     "output_type": "stream",
     "text": [
      "Discriminator Loss at epoch: 35, iter 0 = 0.6709060668945312\n",
      "Generator Loss at epoch: 35, iter 0 = 1.4813183546066284\n"
     ]
    },
    {
     "name": "stderr",
     "output_type": "stream",
     "text": [
      "\r",
      " 37%|███▋      | 37/100 [01:02<01:33,  1.48s/it]"
     ]
    },
    {
     "name": "stdout",
     "output_type": "stream",
     "text": [
      "Discriminator Loss at epoch: 36, iter 0 = 0.6849151849746704\n",
      "Generator Loss at epoch: 36, iter 0 = 1.440121054649353\n"
     ]
    },
    {
     "name": "stderr",
     "output_type": "stream",
     "text": [
      "\r",
      " 38%|███▊      | 38/100 [01:04<01:26,  1.39s/it]"
     ]
    },
    {
     "name": "stdout",
     "output_type": "stream",
     "text": [
      "Discriminator Loss at epoch: 37, iter 0 = 0.6993526220321655\n",
      "Generator Loss at epoch: 37, iter 0 = 1.4646483659744263\n"
     ]
    },
    {
     "name": "stderr",
     "output_type": "stream",
     "text": [
      "\r",
      " 39%|███▉      | 39/100 [01:06<01:45,  1.73s/it]"
     ]
    },
    {
     "name": "stdout",
     "output_type": "stream",
     "text": [
      "Discriminator Loss at epoch: 38, iter 0 = 0.650520920753479\n",
      "Generator Loss at epoch: 38, iter 0 = 1.6037169694900513\n"
     ]
    },
    {
     "name": "stderr",
     "output_type": "stream",
     "text": [
      "\r",
      " 40%|████      | 40/100 [01:07<01:31,  1.52s/it]"
     ]
    },
    {
     "name": "stdout",
     "output_type": "stream",
     "text": [
      "Discriminator Loss at epoch: 39, iter 0 = 0.6336826086044312\n",
      "Generator Loss at epoch: 39, iter 0 = 1.5052906274795532\n",
      "Discriminator Loss at epoch: 40, iter 0 = 0.637959361076355\n",
      "Generator Loss at epoch: 40, iter 0 = 1.4634394645690918\n"
     ]
    },
    {
     "name": "stderr",
     "output_type": "stream",
     "text": [
      " 42%|████▏     | 42/100 [01:11<01:36,  1.67s/it]"
     ]
    },
    {
     "name": "stdout",
     "output_type": "stream",
     "text": [
      "Discriminator Loss at epoch: 41, iter 0 = 0.627998411655426\n",
      "Generator Loss at epoch: 41, iter 0 = 1.4522733688354492\n"
     ]
    },
    {
     "name": "stderr",
     "output_type": "stream",
     "text": [
      "\r",
      " 43%|████▎     | 43/100 [01:14<01:53,  2.00s/it]"
     ]
    },
    {
     "name": "stdout",
     "output_type": "stream",
     "text": [
      "Discriminator Loss at epoch: 42, iter 0 = 0.602905809879303\n",
      "Generator Loss at epoch: 42, iter 0 = 1.517993450164795\n"
     ]
    },
    {
     "name": "stderr",
     "output_type": "stream",
     "text": [
      "\r",
      " 44%|████▍     | 44/100 [01:15<01:43,  1.85s/it]"
     ]
    },
    {
     "name": "stdout",
     "output_type": "stream",
     "text": [
      "Discriminator Loss at epoch: 43, iter 0 = 0.6511296033859253\n",
      "Generator Loss at epoch: 43, iter 0 = 1.4821484088897705\n"
     ]
    },
    {
     "name": "stderr",
     "output_type": "stream",
     "text": [
      "\r",
      " 45%|████▌     | 45/100 [01:17<01:31,  1.66s/it]"
     ]
    },
    {
     "name": "stdout",
     "output_type": "stream",
     "text": [
      "Discriminator Loss at epoch: 44, iter 0 = 0.6488348245620728\n",
      "Generator Loss at epoch: 44, iter 0 = 1.4536046981811523\n"
     ]
    },
    {
     "name": "stderr",
     "output_type": "stream",
     "text": [
      "\r",
      " 46%|████▌     | 46/100 [01:18<01:20,  1.49s/it]"
     ]
    },
    {
     "name": "stdout",
     "output_type": "stream",
     "text": [
      "Discriminator Loss at epoch: 45, iter 0 = 0.6536548137664795\n",
      "Generator Loss at epoch: 45, iter 0 = 1.4274263381958008\n"
     ]
    }
   ],
   "source": [
    "DEBUG = False\n",
    "D_loss_overtime, G_loss_overtime = [], []\n",
    "save_weights = True\n",
    "save_weight_interval = 10\n",
    "save_img_interval = 50\n",
    "data_loader = get_data_loader(\"../mini_data/\")\n",
    "\n",
    "for epoch in tqdm(range(hyper_parms.epochs)):\n",
    "    d_running_loss, g_running_loss = 0, 0\n",
    "\n",
    "    # mini-batch training\n",
    "    for idx, data in enumerate(data_loader):\n",
    "        # set to (64, -1) -1 should be equi to img_sz * img_sz * img_ch\n",
    "        X_data = data.reshape(hyper_parms.batch_size, -1)\n",
    "        X_data = X_data.to(device)\n",
    "\n",
    "        # real_label = 1, fake_label = 0\n",
    "        real_labels = torch.ones(hyper_parms.batch_size, 1).to(device)\n",
    "        fake_labels = torch.zeros(hyper_parms.batch_size, 1).to(device)\n",
    "\n",
    "        ### Train Discriminator which maximizes log(D(x)) + log(1 - D(G(z))) ###\n",
    "        # Using real images\n",
    "        D_net.zero_grad()\n",
    "        D_real_output = D_net(X_data)  # feedforward\n",
    "        D_real_loss = criterion(D_real_output, real_labels)  # cal loss\n",
    "        D_real_loss.backward()\n",
    "\n",
    "        # Using fake images\n",
    "        noise = torch.randn(\n",
    "            hyper_parms.batch_size, hyper_parms.latent_size, device=device\n",
    "        )\n",
    "        G_fake_output = G_net(noise)  # feedforward\n",
    "        D_fake_output = D_net(G_fake_output.detach())\n",
    "        D_fake_loss = criterion(D_fake_output, fake_labels)\n",
    "        D_fake_loss.backward()\n",
    "\n",
    "        D_loss = D_real_loss + D_fake_loss\n",
    "        D_optimizer.step()\n",
    "\n",
    "        ### Train Generator which maximizes log(D(G(z))) as Gradient Descent is expensive ###\n",
    "        G_net.zero_grad()\n",
    "        G_output = D_net(G_fake_output)\n",
    "        G_loss = criterion(G_output, real_labels)\n",
    "        G_loss.backward()\n",
    "        G_optimizer.step()\n",
    "\n",
    "        d_running_loss += D_loss.item()\n",
    "        g_running_loss += G_loss.item()\n",
    "        fmt_epoch = \"{:04d}\".format(epoch)\n",
    "        fmt_idx = \"{:04d}\".format(idx)\n",
    "\n",
    "        if idx % save_img_interval == 0:\n",
    "            # Real image\n",
    "            torchvision.utils.save_image(\n",
    "                data,\n",
    "                f\"{hyper_parms.output_dir}/{fmt_epoch}_{fmt_idx}_real_samples.png\",\n",
    "                normalize=True,\n",
    "            )\n",
    "            # Generated fake image\n",
    "            fake_gen = G_net(fixed_noise)\n",
    "            fake_gen = denorm(\n",
    "                fake_gen.reshape(\n",
    "                    hyper_parms.batch_size,\n",
    "                    3,\n",
    "                    hyper_parms.input_img_size,\n",
    "                    hyper_parms.input_img_size,\n",
    "                )\n",
    "            )\n",
    "            torchvision.utils.save_image(\n",
    "                fake_gen,\n",
    "                f\"{hyper_parms.output_dir}/{fmt_epoch}_{fmt_idx}_fake_samples.png\",\n",
    "                normalize=True,\n",
    "            )\n",
    "\n",
    "        if idx % 20 == 0:\n",
    "            print(f\"Discriminator Loss at epoch: {epoch}, iter {idx} = {D_loss.item()}\")\n",
    "            print(f\"Generator Loss at epoch: {epoch}, iter {idx} = {G_loss.item()}\")\n",
    "\n",
    "            d_avg_running_loss = d_running_loss / max(1, idx)\n",
    "            g_avg_running_loss = g_running_loss / max(1, idx)\n",
    "            D_loss_overtime.append(d_avg_running_loss)\n",
    "            G_loss_overtime.append(g_avg_running_loss)\n",
    "\n",
    "        # Save checkpoint weights\n",
    "        if save_weights and epoch % save_weight_interval == 0:\n",
    "            torch.save(\n",
    "                D_net.state_dict(),\n",
    "                hyper_parms.discriminator_trained_weight_dir\n",
    "                + f\"/dnet_epoch_{fmt_epoch}_iter_{fmt_idx}.pt\",\n",
    "            )\n",
    "            torch.save(\n",
    "                G_net.state_dict(),\n",
    "                hyper_parms.generator_trained_weight_dir\n",
    "                + f\"/gnet_epoch_{fmt_epoch}_iter_{fmt_idx}.pt\",\n",
    "            )"
   ]
  },
  {
   "cell_type": "code",
   "execution_count": 25,
   "metadata": {
    "ExecuteTime": {
     "end_time": "2020-04-28T04:45:01.269590Z",
     "start_time": "2020-04-28T04:45:01.140628Z"
    }
   },
   "outputs": [
    {
     "data": {
      "image/png": "[encoded data removed]",
      "text/plain": [
       "<Figure size 432x288 with 1 Axes>"
      ]
     },
     "metadata": {
      "needs_background": "light"
     },
     "output_type": "display_data"
    }
   ],
   "source": [
    "GAN.plot_gan_loss(G_loss_overtime, D_loss_overtime)"
   ]
  },
  {
   "cell_type": "markdown",
   "metadata": {},
   "source": [
    "## Training our model on the small dataset with our GAN class"
   ]
  },
  {
   "cell_type": "code",
   "execution_count": 33,
   "metadata": {
    "ExecuteTime": {
     "end_time": "2020-04-28T18:22:26.688234Z",
     "start_time": "2020-04-28T18:16:33.083618Z"
    }
   },
   "outputs": [
    {
     "name": "stdout",
     "output_type": "stream",
     "text": [
      "Loading weight ../discriminator_trained_weights/dnet_90.pt for Discriminator\n",
      "Loading weight ../generator_trained_weights/gnet_90.pt for Generator\n"
     ]
    },
    {
     "name": "stderr",
     "output_type": "stream",
     "text": [
      "\r",
      "  0%|          | 0/100 [00:00<?, ?it/s]"
     ]
    },
    {
     "name": "stdout",
     "output_type": "stream",
     "text": [
      "Discriminator Loss at epoch: 0, iter 0 = 0.3387264609336853\n",
      "Generator Loss at epoch: 0, iter 0 = 1.761309027671814\n"
     ]
    },
    {
     "name": "stderr",
     "output_type": "stream",
     "text": [
      "\r",
      "  1%|          | 1/100 [00:04<07:24,  4.49s/it]"
     ]
    },
    {
     "name": "stdout",
     "output_type": "stream",
     "text": [
      "Discriminator Loss at epoch: 1, iter 0 = 0.32058951258659363\n",
      "Generator Loss at epoch: 1, iter 0 = 1.7399402856826782\n"
     ]
    },
    {
     "name": "stderr",
     "output_type": "stream",
     "text": [
      "\r",
      "  2%|▏         | 2/100 [00:07<06:34,  4.02s/it]"
     ]
    },
    {
     "name": "stdout",
     "output_type": "stream",
     "text": [
      "Discriminator Loss at epoch: 2, iter 0 = 0.32851409912109375\n",
      "Generator Loss at epoch: 2, iter 0 = 1.750800371170044\n"
     ]
    },
    {
     "name": "stderr",
     "output_type": "stream",
     "text": [
      "\r",
      "  3%|▎         | 3/100 [00:10<06:02,  3.74s/it]"
     ]
    },
    {
     "name": "stdout",
     "output_type": "stream",
     "text": [
      "Discriminator Loss at epoch: 3, iter 0 = 0.34140950441360474\n",
      "Generator Loss at epoch: 3, iter 0 = 1.8014144897460938\n"
     ]
    },
    {
     "name": "stderr",
     "output_type": "stream",
     "text": [
      "\r",
      "  4%|▍         | 4/100 [00:14<06:15,  3.91s/it]"
     ]
    },
    {
     "name": "stdout",
     "output_type": "stream",
     "text": [
      "Discriminator Loss at epoch: 4, iter 0 = 0.2930857241153717\n",
      "Generator Loss at epoch: 4, iter 0 = 1.869510293006897\n"
     ]
    },
    {
     "name": "stderr",
     "output_type": "stream",
     "text": [
      "\r",
      "  5%|▌         | 5/100 [00:17<05:43,  3.62s/it]"
     ]
    },
    {
     "name": "stdout",
     "output_type": "stream",
     "text": [
      "Discriminator Loss at epoch: 5, iter 0 = 0.3075293302536011\n",
      "Generator Loss at epoch: 5, iter 0 = 1.7259342670440674\n"
     ]
    },
    {
     "name": "stderr",
     "output_type": "stream",
     "text": [
      "\r",
      "  6%|▌         | 6/100 [00:20<05:21,  3.42s/it]"
     ]
    },
    {
     "name": "stdout",
     "output_type": "stream",
     "text": [
      "Discriminator Loss at epoch: 6, iter 0 = 0.2712128460407257\n",
      "Generator Loss at epoch: 6, iter 0 = 1.854814052581787\n"
     ]
    },
    {
     "name": "stderr",
     "output_type": "stream",
     "text": [
      "\r",
      "  7%|▋         | 7/100 [00:24<05:24,  3.49s/it]"
     ]
    },
    {
     "name": "stdout",
     "output_type": "stream",
     "text": [
      "Discriminator Loss at epoch: 7, iter 0 = 0.273418128490448\n",
      "Generator Loss at epoch: 7, iter 0 = 1.9086856842041016\n"
     ]
    },
    {
     "name": "stderr",
     "output_type": "stream",
     "text": [
      "\r",
      "  8%|▊         | 8/100 [00:28<05:49,  3.80s/it]"
     ]
    },
    {
     "name": "stdout",
     "output_type": "stream",
     "text": [
      "Discriminator Loss at epoch: 8, iter 0 = 0.2608705163002014\n",
      "Generator Loss at epoch: 8, iter 0 = 2.0153648853302\n"
     ]
    },
    {
     "name": "stderr",
     "output_type": "stream",
     "text": [
      "\r",
      "  9%|▉         | 9/100 [00:31<05:21,  3.53s/it]"
     ]
    },
    {
     "name": "stdout",
     "output_type": "stream",
     "text": [
      "Discriminator Loss at epoch: 9, iter 0 = 0.2544597387313843\n",
      "Generator Loss at epoch: 9, iter 0 = 1.922121286392212\n"
     ]
    },
    {
     "name": "stderr",
     "output_type": "stream",
     "text": [
      "\r",
      " 10%|█         | 10/100 [00:34<04:58,  3.32s/it]"
     ]
    },
    {
     "name": "stdout",
     "output_type": "stream",
     "text": [
      "Discriminator Loss at epoch: 10, iter 0 = 0.2604232132434845\n",
      "Generator Loss at epoch: 10, iter 0 = 1.9297624826431274\n"
     ]
    },
    {
     "name": "stderr",
     "output_type": "stream",
     "text": [
      "\r",
      " 11%|█         | 11/100 [00:39<05:28,  3.69s/it]"
     ]
    },
    {
     "name": "stdout",
     "output_type": "stream",
     "text": [
      "Discriminator Loss at epoch: 11, iter 0 = 0.240474134683609\n",
      "Generator Loss at epoch: 11, iter 0 = 2.00431489944458\n"
     ]
    },
    {
     "name": "stderr",
     "output_type": "stream",
     "text": [
      "\r",
      " 12%|█▏        | 12/100 [00:42<05:06,  3.48s/it]"
     ]
    },
    {
     "name": "stdout",
     "output_type": "stream",
     "text": [
      "Discriminator Loss at epoch: 12, iter 0 = 0.2530818581581116\n",
      "Generator Loss at epoch: 12, iter 0 = 1.9385063648223877\n"
     ]
    },
    {
     "name": "stderr",
     "output_type": "stream",
     "text": [
      "\r",
      " 13%|█▎        | 13/100 [00:44<04:45,  3.28s/it]"
     ]
    },
    {
     "name": "stdout",
     "output_type": "stream",
     "text": [
      "Discriminator Loss at epoch: 13, iter 0 = 0.22598899900913239\n",
      "Generator Loss at epoch: 13, iter 0 = 2.109907627105713\n"
     ]
    },
    {
     "name": "stderr",
     "output_type": "stream",
     "text": [
      "\r",
      " 14%|█▍        | 14/100 [00:48<04:46,  3.33s/it]"
     ]
    },
    {
     "name": "stdout",
     "output_type": "stream",
     "text": [
      "Discriminator Loss at epoch: 14, iter 0 = 0.21447914838790894\n",
      "Generator Loss at epoch: 14, iter 0 = 2.099698543548584\n"
     ]
    },
    {
     "name": "stderr",
     "output_type": "stream",
     "text": [
      "\r",
      " 15%|█▌        | 15/100 [00:52<04:56,  3.49s/it]"
     ]
    },
    {
     "name": "stdout",
     "output_type": "stream",
     "text": [
      "Discriminator Loss at epoch: 15, iter 0 = 0.2400520145893097\n",
      "Generator Loss at epoch: 15, iter 0 = 1.9834315776824951\n"
     ]
    },
    {
     "name": "stderr",
     "output_type": "stream",
     "text": [
      "\r",
      " 16%|█▌        | 16/100 [00:55<04:40,  3.34s/it]"
     ]
    },
    {
     "name": "stdout",
     "output_type": "stream",
     "text": [
      "Discriminator Loss at epoch: 16, iter 0 = 0.21687181293964386\n",
      "Generator Loss at epoch: 16, iter 0 = 2.1127467155456543\n"
     ]
    },
    {
     "name": "stderr",
     "output_type": "stream",
     "text": [
      "\r",
      " 17%|█▋        | 17/100 [00:58<04:39,  3.37s/it]"
     ]
    },
    {
     "name": "stdout",
     "output_type": "stream",
     "text": [
      "Discriminator Loss at epoch: 17, iter 0 = 0.23471015691757202\n",
      "Generator Loss at epoch: 17, iter 0 = 2.273820400238037\n"
     ]
    },
    {
     "name": "stderr",
     "output_type": "stream",
     "text": [
      "\r",
      " 18%|█▊        | 18/100 [01:03<05:04,  3.71s/it]"
     ]
    },
    {
     "name": "stdout",
     "output_type": "stream",
     "text": [
      "Discriminator Loss at epoch: 18, iter 0 = 0.2297256886959076\n",
      "Generator Loss at epoch: 18, iter 0 = 1.9694828987121582\n"
     ]
    },
    {
     "name": "stderr",
     "output_type": "stream",
     "text": [
      "\r",
      " 19%|█▉        | 19/100 [01:06<04:38,  3.44s/it]"
     ]
    },
    {
     "name": "stdout",
     "output_type": "stream",
     "text": [
      "Discriminator Loss at epoch: 19, iter 0 = 0.20322653651237488\n",
      "Generator Loss at epoch: 19, iter 0 = 2.0306003093719482\n"
     ]
    },
    {
     "name": "stderr",
     "output_type": "stream",
     "text": [
      "\r",
      " 20%|██        | 20/100 [01:09<04:25,  3.32s/it]"
     ]
    },
    {
     "name": "stdout",
     "output_type": "stream",
     "text": [
      "Discriminator Loss at epoch: 20, iter 0 = 0.22182637453079224\n",
      "Generator Loss at epoch: 20, iter 0 = 2.189563274383545\n"
     ]
    },
    {
     "name": "stderr",
     "output_type": "stream",
     "text": [
      "\r",
      " 21%|██        | 21/100 [01:13<04:51,  3.69s/it]"
     ]
    },
    {
     "name": "stdout",
     "output_type": "stream",
     "text": [
      "Discriminator Loss at epoch: 21, iter 0 = 0.2029937207698822\n",
      "Generator Loss at epoch: 21, iter 0 = 2.281770706176758\n"
     ]
    },
    {
     "name": "stderr",
     "output_type": "stream",
     "text": [
      "\r",
      " 22%|██▏       | 22/100 [01:16<04:28,  3.44s/it]"
     ]
    },
    {
     "name": "stdout",
     "output_type": "stream",
     "text": [
      "Discriminator Loss at epoch: 22, iter 0 = 0.23477911949157715\n",
      "Generator Loss at epoch: 22, iter 0 = 2.3016161918640137\n"
     ]
    },
    {
     "name": "stderr",
     "output_type": "stream",
     "text": [
      "\r",
      " 23%|██▎       | 23/100 [01:19<04:14,  3.31s/it]"
     ]
    },
    {
     "name": "stdout",
     "output_type": "stream",
     "text": [
      "Discriminator Loss at epoch: 23, iter 0 = 0.21790196001529694\n",
      "Generator Loss at epoch: 23, iter 0 = 2.095824718475342\n"
     ]
    },
    {
     "name": "stderr",
     "output_type": "stream",
     "text": [
      "\r",
      " 24%|██▍       | 24/100 [01:22<04:05,  3.24s/it]"
     ]
    },
    {
     "name": "stdout",
     "output_type": "stream",
     "text": [
      "Discriminator Loss at epoch: 24, iter 0 = 0.2302848994731903\n",
      "Generator Loss at epoch: 24, iter 0 = 2.0922608375549316\n"
     ]
    },
    {
     "name": "stderr",
     "output_type": "stream",
     "text": [
      "\r",
      " 25%|██▌       | 25/100 [01:27<04:46,  3.82s/it]"
     ]
    },
    {
     "name": "stdout",
     "output_type": "stream",
     "text": [
      "Discriminator Loss at epoch: 25, iter 0 = 0.21094194054603577\n",
      "Generator Loss at epoch: 25, iter 0 = 2.215606212615967\n"
     ]
    },
    {
     "name": "stderr",
     "output_type": "stream",
     "text": [
      "\r",
      " 26%|██▌       | 26/100 [01:30<04:22,  3.55s/it]"
     ]
    },
    {
     "name": "stdout",
     "output_type": "stream",
     "text": [
      "Discriminator Loss at epoch: 26, iter 0 = 0.21102496981620789\n",
      "Generator Loss at epoch: 26, iter 0 = 2.186311721801758\n"
     ]
    },
    {
     "name": "stderr",
     "output_type": "stream",
     "text": [
      "\r",
      " 27%|██▋       | 27/100 [01:33<04:07,  3.39s/it]"
     ]
    },
    {
     "name": "stdout",
     "output_type": "stream",
     "text": [
      "Discriminator Loss at epoch: 27, iter 0 = 0.19311685860157013\n",
      "Generator Loss at epoch: 27, iter 0 = 2.171652317047119\n"
     ]
    },
    {
     "name": "stderr",
     "output_type": "stream",
     "text": [
      "\r",
      " 28%|██▊       | 28/100 [01:38<04:28,  3.73s/it]"
     ]
    },
    {
     "name": "stdout",
     "output_type": "stream",
     "text": [
      "Discriminator Loss at epoch: 28, iter 0 = 0.17618562281131744\n",
      "Generator Loss at epoch: 28, iter 0 = 2.291930675506592\n"
     ]
    },
    {
     "name": "stderr",
     "output_type": "stream",
     "text": [
      "\r",
      " 29%|██▉       | 29/100 [01:41<04:07,  3.49s/it]"
     ]
    },
    {
     "name": "stdout",
     "output_type": "stream",
     "text": [
      "Discriminator Loss at epoch: 29, iter 0 = 0.19192275404930115\n",
      "Generator Loss at epoch: 29, iter 0 = 2.2760708332061768\n"
     ]
    },
    {
     "name": "stderr",
     "output_type": "stream",
     "text": [
      "\r",
      " 30%|███       | 30/100 [01:44<03:54,  3.34s/it]"
     ]
    },
    {
     "name": "stdout",
     "output_type": "stream",
     "text": [
      "Discriminator Loss at epoch: 30, iter 0 = 0.17875079810619354\n",
      "Generator Loss at epoch: 30, iter 0 = 2.3138160705566406\n"
     ]
    },
    {
     "name": "stderr",
     "output_type": "stream",
     "text": [
      "\r",
      " 31%|███       | 31/100 [01:47<03:59,  3.47s/it]"
     ]
    },
    {
     "name": "stdout",
     "output_type": "stream",
     "text": [
      "Discriminator Loss at epoch: 31, iter 0 = 0.18449723720550537\n",
      "Generator Loss at epoch: 31, iter 0 = 2.2691969871520996\n"
     ]
    },
    {
     "name": "stderr",
     "output_type": "stream",
     "text": [
      "\r",
      " 32%|███▏      | 32/100 [01:51<04:04,  3.60s/it]"
     ]
    },
    {
     "name": "stdout",
     "output_type": "stream",
     "text": [
      "Discriminator Loss at epoch: 32, iter 0 = 0.19090329110622406\n",
      "Generator Loss at epoch: 32, iter 0 = 2.2515766620635986\n"
     ]
    },
    {
     "name": "stderr",
     "output_type": "stream",
     "text": [
      "\r",
      " 33%|███▎      | 33/100 [01:54<03:50,  3.44s/it]"
     ]
    },
    {
     "name": "stdout",
     "output_type": "stream",
     "text": [
      "Discriminator Loss at epoch: 33, iter 0 = 0.17906039953231812\n",
      "Generator Loss at epoch: 33, iter 0 = 2.3582348823547363\n"
     ]
    },
    {
     "name": "stderr",
     "output_type": "stream",
     "text": [
      "\r",
      " 34%|███▍      | 34/100 [01:57<03:37,  3.30s/it]"
     ]
    },
    {
     "name": "stdout",
     "output_type": "stream",
     "text": [
      "Discriminator Loss at epoch: 34, iter 0 = 0.18973863124847412\n",
      "Generator Loss at epoch: 34, iter 0 = 2.5509843826293945\n"
     ]
    },
    {
     "name": "stderr",
     "output_type": "stream",
     "text": [
      "\r",
      " 35%|███▌      | 35/100 [02:03<04:13,  3.90s/it]"
     ]
    },
    {
     "name": "stdout",
     "output_type": "stream",
     "text": [
      "Discriminator Loss at epoch: 35, iter 0 = 0.18290181457996368\n",
      "Generator Loss at epoch: 35, iter 0 = 2.1079490184783936\n"
     ]
    },
    {
     "name": "stderr",
     "output_type": "stream",
     "text": [
      "\r",
      " 36%|███▌      | 36/100 [02:05<03:48,  3.57s/it]"
     ]
    },
    {
     "name": "stdout",
     "output_type": "stream",
     "text": [
      "Discriminator Loss at epoch: 36, iter 0 = 0.18486657738685608\n",
      "Generator Loss at epoch: 36, iter 0 = 2.28719425201416\n"
     ]
    },
    {
     "name": "stderr",
     "output_type": "stream",
     "text": [
      "\r",
      " 37%|███▋      | 37/100 [02:08<03:29,  3.33s/it]"
     ]
    },
    {
     "name": "stdout",
     "output_type": "stream",
     "text": [
      "Discriminator Loss at epoch: 37, iter 0 = 0.20171919465065002\n",
      "Generator Loss at epoch: 37, iter 0 = 2.4539124965667725\n"
     ]
    },
    {
     "name": "stderr",
     "output_type": "stream",
     "text": [
      "\r",
      " 38%|███▊      | 38/100 [02:13<03:49,  3.69s/it]"
     ]
    },
    {
     "name": "stdout",
     "output_type": "stream",
     "text": [
      "Discriminator Loss at epoch: 38, iter 0 = 0.1891116201877594\n",
      "Generator Loss at epoch: 38, iter 0 = 2.2504727840423584\n"
     ]
    },
    {
     "name": "stderr",
     "output_type": "stream",
     "text": [
      "\r",
      " 39%|███▉      | 39/100 [02:16<03:30,  3.46s/it]"
     ]
    },
    {
     "name": "stdout",
     "output_type": "stream",
     "text": [
      "Discriminator Loss at epoch: 39, iter 0 = 0.16065889596939087\n",
      "Generator Loss at epoch: 39, iter 0 = 2.5605316162109375\n"
     ]
    },
    {
     "name": "stderr",
     "output_type": "stream",
     "text": [
      "\r",
      " 40%|████      | 40/100 [02:19<03:19,  3.32s/it]"
     ]
    },
    {
     "name": "stdout",
     "output_type": "stream",
     "text": [
      "Discriminator Loss at epoch: 40, iter 0 = 0.1600210815668106\n",
      "Generator Loss at epoch: 40, iter 0 = 2.4843459129333496\n"
     ]
    },
    {
     "name": "stderr",
     "output_type": "stream",
     "text": [
      "\r",
      " 41%|████      | 41/100 [02:22<03:12,  3.26s/it]"
     ]
    },
    {
     "name": "stdout",
     "output_type": "stream",
     "text": [
      "Discriminator Loss at epoch: 41, iter 0 = 0.17304068803787231\n",
      "Generator Loss at epoch: 41, iter 0 = 2.4000537395477295\n"
     ]
    },
    {
     "name": "stderr",
     "output_type": "stream",
     "text": [
      "\r",
      " 42%|████▏     | 42/100 [02:27<03:40,  3.80s/it]"
     ]
    },
    {
     "name": "stdout",
     "output_type": "stream",
     "text": [
      "Discriminator Loss at epoch: 42, iter 0 = 0.1627875566482544\n",
      "Generator Loss at epoch: 42, iter 0 = 2.3544797897338867\n"
     ]
    },
    {
     "name": "stderr",
     "output_type": "stream",
     "text": [
      "\r",
      " 43%|████▎     | 43/100 [02:30<03:20,  3.51s/it]"
     ]
    },
    {
     "name": "stdout",
     "output_type": "stream",
     "text": [
      "Discriminator Loss at epoch: 43, iter 0 = 0.17370140552520752\n",
      "Generator Loss at epoch: 43, iter 0 = 2.394284248352051\n"
     ]
    },
    {
     "name": "stderr",
     "output_type": "stream",
     "text": [
      "\r",
      " 44%|████▍     | 44/100 [02:33<03:05,  3.31s/it]"
     ]
    },
    {
     "name": "stdout",
     "output_type": "stream",
     "text": [
      "Discriminator Loss at epoch: 44, iter 0 = 0.17479781806468964\n",
      "Generator Loss at epoch: 44, iter 0 = 2.4824280738830566\n"
     ]
    },
    {
     "name": "stderr",
     "output_type": "stream",
     "text": [
      "\r",
      " 45%|████▌     | 45/100 [02:37<03:21,  3.66s/it]"
     ]
    },
    {
     "name": "stdout",
     "output_type": "stream",
     "text": [
      "Discriminator Loss at epoch: 45, iter 0 = 0.17282100021839142\n",
      "Generator Loss at epoch: 45, iter 0 = 2.4266228675842285\n"
     ]
    },
    {
     "name": "stderr",
     "output_type": "stream",
     "text": [
      "\r",
      " 46%|████▌     | 46/100 [02:40<03:03,  3.41s/it]"
     ]
    },
    {
     "name": "stdout",
     "output_type": "stream",
     "text": [
      "Discriminator Loss at epoch: 46, iter 0 = 0.16150502860546112\n",
      "Generator Loss at epoch: 46, iter 0 = 2.376931667327881\n"
     ]
    },
    {
     "name": "stderr",
     "output_type": "stream",
     "text": [
      "\r",
      " 47%|████▋     | 47/100 [02:43<02:56,  3.33s/it]"
     ]
    },
    {
     "name": "stdout",
     "output_type": "stream",
     "text": [
      "Discriminator Loss at epoch: 47, iter 0 = 0.16434264183044434\n",
      "Generator Loss at epoch: 47, iter 0 = 2.471571922302246\n"
     ]
    },
    {
     "name": "stderr",
     "output_type": "stream",
     "text": [
      "\r",
      " 48%|████▊     | 48/100 [02:46<02:44,  3.17s/it]"
     ]
    },
    {
     "name": "stdout",
     "output_type": "stream",
     "text": [
      "Discriminator Loss at epoch: 48, iter 0 = 0.15426433086395264\n",
      "Generator Loss at epoch: 48, iter 0 = 2.5957536697387695\n"
     ]
    },
    {
     "name": "stderr",
     "output_type": "stream",
     "text": [
      "\r",
      " 49%|████▉     | 49/100 [02:50<03:02,  3.57s/it]"
     ]
    },
    {
     "name": "stdout",
     "output_type": "stream",
     "text": [
      "Discriminator Loss at epoch: 49, iter 0 = 0.15354488790035248\n",
      "Generator Loss at epoch: 49, iter 0 = 2.3728599548339844\n"
     ]
    },
    {
     "name": "stderr",
     "output_type": "stream",
     "text": [
      "\r",
      " 50%|█████     | 50/100 [02:53<02:48,  3.37s/it]"
     ]
    },
    {
     "name": "stdout",
     "output_type": "stream",
     "text": [
      "Discriminator Loss at epoch: 50, iter 0 = 0.15628018975257874\n",
      "Generator Loss at epoch: 50, iter 0 = 2.5367608070373535\n"
     ]
    },
    {
     "name": "stderr",
     "output_type": "stream",
     "text": [
      "\r",
      " 51%|█████     | 51/100 [02:56<02:38,  3.24s/it]"
     ]
    },
    {
     "name": "stdout",
     "output_type": "stream",
     "text": [
      "Discriminator Loss at epoch: 51, iter 0 = 0.15658575296401978\n",
      "Generator Loss at epoch: 51, iter 0 = 2.644540786743164\n"
     ]
    },
    {
     "name": "stderr",
     "output_type": "stream",
     "text": [
      "\r",
      " 52%|█████▏    | 52/100 [03:00<02:50,  3.55s/it]"
     ]
    },
    {
     "name": "stdout",
     "output_type": "stream",
     "text": [
      "Discriminator Loss at epoch: 52, iter 0 = 0.16545718908309937\n",
      "Generator Loss at epoch: 52, iter 0 = 2.533588409423828\n"
     ]
    },
    {
     "name": "stderr",
     "output_type": "stream",
     "text": [
      "\r",
      " 53%|█████▎    | 53/100 [03:04<02:49,  3.61s/it]"
     ]
    },
    {
     "name": "stdout",
     "output_type": "stream",
     "text": [
      "Discriminator Loss at epoch: 53, iter 0 = 0.14363950490951538\n",
      "Generator Loss at epoch: 53, iter 0 = 2.544933557510376\n"
     ]
    },
    {
     "name": "stderr",
     "output_type": "stream",
     "text": [
      "\r",
      " 54%|█████▍    | 54/100 [03:07<02:37,  3.43s/it]"
     ]
    },
    {
     "name": "stdout",
     "output_type": "stream",
     "text": [
      "Discriminator Loss at epoch: 54, iter 0 = 0.1559310257434845\n",
      "Generator Loss at epoch: 54, iter 0 = 2.472928285598755\n"
     ]
    },
    {
     "name": "stderr",
     "output_type": "stream",
     "text": [
      "\r",
      " 55%|█████▌    | 55/100 [03:10<02:28,  3.30s/it]"
     ]
    },
    {
     "name": "stdout",
     "output_type": "stream",
     "text": [
      "Discriminator Loss at epoch: 55, iter 0 = 0.15037265419960022\n",
      "Generator Loss at epoch: 55, iter 0 = 2.7184371948242188\n"
     ]
    },
    {
     "name": "stderr",
     "output_type": "stream",
     "text": [
      "\r",
      " 56%|█████▌    | 56/100 [03:15<02:40,  3.64s/it]"
     ]
    },
    {
     "name": "stdout",
     "output_type": "stream",
     "text": [
      "Discriminator Loss at epoch: 56, iter 0 = 0.14840219914913177\n",
      "Generator Loss at epoch: 56, iter 0 = 2.5102550983428955\n"
     ]
    },
    {
     "name": "stderr",
     "output_type": "stream",
     "text": [
      "\r",
      " 57%|█████▋    | 57/100 [03:18<02:27,  3.44s/it]"
     ]
    },
    {
     "name": "stdout",
     "output_type": "stream",
     "text": [
      "Discriminator Loss at epoch: 57, iter 0 = 0.13794833421707153\n",
      "Generator Loss at epoch: 57, iter 0 = 2.6027393341064453\n"
     ]
    },
    {
     "name": "stderr",
     "output_type": "stream",
     "text": [
      "\r",
      " 58%|█████▊    | 58/100 [03:20<02:18,  3.30s/it]"
     ]
    },
    {
     "name": "stdout",
     "output_type": "stream",
     "text": [
      "Discriminator Loss at epoch: 58, iter 0 = 0.12910795211791992\n",
      "Generator Loss at epoch: 58, iter 0 = 2.582465648651123\n"
     ]
    },
    {
     "name": "stderr",
     "output_type": "stream",
     "text": [
      "\r",
      " 59%|█████▉    | 59/100 [03:26<02:38,  3.86s/it]"
     ]
    },
    {
     "name": "stdout",
     "output_type": "stream",
     "text": [
      "Discriminator Loss at epoch: 59, iter 0 = 0.1279601901769638\n",
      "Generator Loss at epoch: 59, iter 0 = 2.642475128173828\n"
     ]
    },
    {
     "name": "stderr",
     "output_type": "stream",
     "text": [
      "\r",
      " 60%|██████    | 60/100 [03:29<02:23,  3.59s/it]"
     ]
    },
    {
     "name": "stdout",
     "output_type": "stream",
     "text": [
      "Discriminator Loss at epoch: 60, iter 0 = 0.14056113362312317\n",
      "Generator Loss at epoch: 60, iter 0 = 2.5614118576049805\n"
     ]
    },
    {
     "name": "stderr",
     "output_type": "stream",
     "text": [
      "\r",
      " 61%|██████    | 61/100 [03:32<02:12,  3.41s/it]"
     ]
    },
    {
     "name": "stdout",
     "output_type": "stream",
     "text": [
      "Discriminator Loss at epoch: 61, iter 0 = 0.12878426909446716\n",
      "Generator Loss at epoch: 61, iter 0 = 2.7105884552001953\n"
     ]
    },
    {
     "name": "stderr",
     "output_type": "stream",
     "text": [
      "\r",
      " 62%|██████▏   | 62/100 [03:35<02:03,  3.26s/it]"
     ]
    },
    {
     "name": "stdout",
     "output_type": "stream",
     "text": [
      "Discriminator Loss at epoch: 62, iter 0 = 0.1195315271615982\n",
      "Generator Loss at epoch: 62, iter 0 = 2.8553712368011475\n"
     ]
    },
    {
     "name": "stderr",
     "output_type": "stream",
     "text": [
      "\r",
      " 63%|██████▎   | 63/100 [03:39<02:14,  3.63s/it]"
     ]
    },
    {
     "name": "stdout",
     "output_type": "stream",
     "text": [
      "Discriminator Loss at epoch: 63, iter 0 = 0.12645752727985382\n",
      "Generator Loss at epoch: 63, iter 0 = 2.676196575164795\n"
     ]
    },
    {
     "name": "stderr",
     "output_type": "stream",
     "text": [
      "\r",
      " 64%|██████▍   | 64/100 [03:42<02:03,  3.44s/it]"
     ]
    },
    {
     "name": "stdout",
     "output_type": "stream",
     "text": [
      "Discriminator Loss at epoch: 64, iter 0 = 0.11322382092475891\n",
      "Generator Loss at epoch: 64, iter 0 = 2.727586030960083\n"
     ]
    },
    {
     "name": "stderr",
     "output_type": "stream",
     "text": [
      "\r",
      " 65%|██████▌   | 65/100 [03:45<01:55,  3.31s/it]"
     ]
    },
    {
     "name": "stdout",
     "output_type": "stream",
     "text": [
      "Discriminator Loss at epoch: 65, iter 0 = 0.11498946696519852\n",
      "Generator Loss at epoch: 65, iter 0 = 2.7836079597473145\n"
     ]
    },
    {
     "name": "stderr",
     "output_type": "stream",
     "text": [
      "\r",
      " 66%|██████▌   | 66/100 [03:50<02:05,  3.70s/it]"
     ]
    },
    {
     "name": "stdout",
     "output_type": "stream",
     "text": [
      "Discriminator Loss at epoch: 66, iter 0 = 0.1123114600777626\n",
      "Generator Loss at epoch: 66, iter 0 = 2.7563319206237793\n"
     ]
    },
    {
     "name": "stderr",
     "output_type": "stream",
     "text": [
      "\r",
      " 67%|██████▋   | 67/100 [03:53<01:56,  3.53s/it]"
     ]
    },
    {
     "name": "stdout",
     "output_type": "stream",
     "text": [
      "Discriminator Loss at epoch: 67, iter 0 = 0.11001987755298615\n",
      "Generator Loss at epoch: 67, iter 0 = 2.7296948432922363\n"
     ]
    },
    {
     "name": "stderr",
     "output_type": "stream",
     "text": [
      "\r",
      " 68%|██████▊   | 68/100 [03:56<01:47,  3.34s/it]"
     ]
    },
    {
     "name": "stdout",
     "output_type": "stream",
     "text": [
      "Discriminator Loss at epoch: 68, iter 0 = 0.1256335973739624\n",
      "Generator Loss at epoch: 68, iter 0 = 3.036602258682251\n"
     ]
    },
    {
     "name": "stderr",
     "output_type": "stream",
     "text": [
      "\r",
      " 69%|██████▉   | 69/100 [04:00<01:54,  3.69s/it]"
     ]
    },
    {
     "name": "stdout",
     "output_type": "stream",
     "text": [
      "Discriminator Loss at epoch: 69, iter 0 = 0.14446496963500977\n",
      "Generator Loss at epoch: 69, iter 0 = 2.364506244659424\n"
     ]
    },
    {
     "name": "stderr",
     "output_type": "stream",
     "text": [
      "\r",
      " 70%|███████   | 70/100 [04:03<01:43,  3.46s/it]"
     ]
    },
    {
     "name": "stdout",
     "output_type": "stream",
     "text": [
      "Discriminator Loss at epoch: 70, iter 0 = 0.1399301290512085\n",
      "Generator Loss at epoch: 70, iter 0 = 2.414304256439209\n"
     ]
    },
    {
     "name": "stderr",
     "output_type": "stream",
     "text": [
      "\r",
      " 71%|███████   | 71/100 [04:06<01:35,  3.30s/it]"
     ]
    },
    {
     "name": "stdout",
     "output_type": "stream",
     "text": [
      "Discriminator Loss at epoch: 71, iter 0 = 0.15317507088184357\n",
      "Generator Loss at epoch: 71, iter 0 = 2.7369790077209473\n"
     ]
    },
    {
     "name": "stderr",
     "output_type": "stream",
     "text": [
      "\r",
      " 72%|███████▏  | 72/100 [04:09<01:32,  3.30s/it]"
     ]
    },
    {
     "name": "stdout",
     "output_type": "stream",
     "text": [
      "Discriminator Loss at epoch: 72, iter 0 = 0.1130998283624649\n",
      "Generator Loss at epoch: 72, iter 0 = 3.0327367782592773\n"
     ]
    },
    {
     "name": "stderr",
     "output_type": "stream",
     "text": [
      "\r",
      " 73%|███████▎  | 73/100 [04:14<01:37,  3.63s/it]"
     ]
    },
    {
     "name": "stdout",
     "output_type": "stream",
     "text": [
      "Discriminator Loss at epoch: 73, iter 0 = 0.12283100187778473\n",
      "Generator Loss at epoch: 73, iter 0 = 2.737049102783203\n"
     ]
    },
    {
     "name": "stderr",
     "output_type": "stream",
     "text": [
      "\r",
      " 74%|███████▍  | 74/100 [04:17<01:29,  3.43s/it]"
     ]
    },
    {
     "name": "stdout",
     "output_type": "stream",
     "text": [
      "Discriminator Loss at epoch: 74, iter 0 = 0.10793883353471756\n",
      "Generator Loss at epoch: 74, iter 0 = 2.8100244998931885\n"
     ]
    },
    {
     "name": "stderr",
     "output_type": "stream",
     "text": [
      "\r",
      " 75%|███████▌  | 75/100 [04:20<01:23,  3.33s/it]"
     ]
    },
    {
     "name": "stdout",
     "output_type": "stream",
     "text": [
      "Discriminator Loss at epoch: 75, iter 0 = 0.10328777134418488\n",
      "Generator Loss at epoch: 75, iter 0 = 3.0397353172302246\n"
     ]
    },
    {
     "name": "stderr",
     "output_type": "stream",
     "text": [
      "\r",
      " 76%|███████▌  | 76/100 [04:25<01:33,  3.90s/it]"
     ]
    },
    {
     "name": "stdout",
     "output_type": "stream",
     "text": [
      "Discriminator Loss at epoch: 76, iter 0 = 0.10104477405548096\n",
      "Generator Loss at epoch: 76, iter 0 = 2.8961007595062256\n"
     ]
    },
    {
     "name": "stderr",
     "output_type": "stream",
     "text": [
      "\r",
      " 77%|███████▋  | 77/100 [04:28<01:22,  3.59s/it]"
     ]
    },
    {
     "name": "stdout",
     "output_type": "stream",
     "text": [
      "Discriminator Loss at epoch: 77, iter 0 = 0.11836805939674377\n",
      "Generator Loss at epoch: 77, iter 0 = 2.9837796688079834\n"
     ]
    },
    {
     "name": "stderr",
     "output_type": "stream",
     "text": [
      "\r",
      " 78%|███████▊  | 78/100 [04:31<01:14,  3.39s/it]"
     ]
    },
    {
     "name": "stdout",
     "output_type": "stream",
     "text": [
      "Discriminator Loss at epoch: 78, iter 0 = 0.10863352566957474\n",
      "Generator Loss at epoch: 78, iter 0 = 2.8494691848754883\n"
     ]
    },
    {
     "name": "stderr",
     "output_type": "stream",
     "text": [
      "\r",
      " 79%|███████▉  | 79/100 [04:34<01:09,  3.29s/it]"
     ]
    },
    {
     "name": "stdout",
     "output_type": "stream",
     "text": [
      "Discriminator Loss at epoch: 79, iter 0 = 0.10062233358621597\n",
      "Generator Loss at epoch: 79, iter 0 = 2.825948715209961\n"
     ]
    },
    {
     "name": "stderr",
     "output_type": "stream",
     "text": [
      "\r",
      " 80%|████████  | 80/100 [04:38<01:13,  3.66s/it]"
     ]
    },
    {
     "name": "stdout",
     "output_type": "stream",
     "text": [
      "Discriminator Loss at epoch: 80, iter 0 = 0.10314886271953583\n",
      "Generator Loss at epoch: 80, iter 0 = 2.8749608993530273\n"
     ]
    },
    {
     "name": "stderr",
     "output_type": "stream",
     "text": [
      "\r",
      " 81%|████████  | 81/100 [04:42<01:07,  3.54s/it]"
     ]
    },
    {
     "name": "stdout",
     "output_type": "stream",
     "text": [
      "Discriminator Loss at epoch: 81, iter 0 = 0.10542954504489899\n",
      "Generator Loss at epoch: 81, iter 0 = 2.8014707565307617\n"
     ]
    },
    {
     "name": "stderr",
     "output_type": "stream",
     "text": [
      "\r",
      " 82%|████████▏ | 82/100 [04:45<01:00,  3.38s/it]"
     ]
    },
    {
     "name": "stdout",
     "output_type": "stream",
     "text": [
      "Discriminator Loss at epoch: 82, iter 0 = 0.10871534049510956\n",
      "Generator Loss at epoch: 82, iter 0 = 3.310469150543213\n"
     ]
    },
    {
     "name": "stderr",
     "output_type": "stream",
     "text": [
      "\r",
      " 83%|████████▎ | 83/100 [04:49<01:02,  3.71s/it]"
     ]
    },
    {
     "name": "stdout",
     "output_type": "stream",
     "text": [
      "Discriminator Loss at epoch: 83, iter 0 = 0.1457606554031372\n",
      "Generator Loss at epoch: 83, iter 0 = 2.430746078491211\n"
     ]
    },
    {
     "name": "stderr",
     "output_type": "stream",
     "text": [
      "\r",
      " 84%|████████▍ | 84/100 [04:53<00:58,  3.65s/it]"
     ]
    },
    {
     "name": "stdout",
     "output_type": "stream",
     "text": [
      "Discriminator Loss at epoch: 84, iter 0 = 0.16782011091709137\n",
      "Generator Loss at epoch: 84, iter 0 = 2.6967856884002686\n"
     ]
    },
    {
     "name": "stderr",
     "output_type": "stream",
     "text": [
      "\r",
      " 85%|████████▌ | 85/100 [04:56<00:51,  3.45s/it]"
     ]
    },
    {
     "name": "stdout",
     "output_type": "stream",
     "text": [
      "Discriminator Loss at epoch: 85, iter 0 = 0.11208886653184891\n",
      "Generator Loss at epoch: 85, iter 0 = 3.146303176879883\n"
     ]
    },
    {
     "name": "stderr",
     "output_type": "stream",
     "text": [
      "\r",
      " 86%|████████▌ | 86/100 [05:00<00:51,  3.66s/it]"
     ]
    },
    {
     "name": "stdout",
     "output_type": "stream",
     "text": [
      "Discriminator Loss at epoch: 86, iter 0 = 0.12723588943481445\n",
      "Generator Loss at epoch: 86, iter 0 = 2.812359094619751\n"
     ]
    },
    {
     "name": "stderr",
     "output_type": "stream",
     "text": [
      "\r",
      " 87%|████████▋ | 87/100 [05:03<00:47,  3.63s/it]"
     ]
    },
    {
     "name": "stdout",
     "output_type": "stream",
     "text": [
      "Discriminator Loss at epoch: 87, iter 0 = 0.12387964129447937\n",
      "Generator Loss at epoch: 87, iter 0 = 2.7456765174865723\n"
     ]
    },
    {
     "name": "stderr",
     "output_type": "stream",
     "text": [
      "\r",
      " 88%|████████▊ | 88/100 [05:06<00:40,  3.40s/it]"
     ]
    },
    {
     "name": "stdout",
     "output_type": "stream",
     "text": [
      "Discriminator Loss at epoch: 88, iter 0 = 0.10306983441114426\n",
      "Generator Loss at epoch: 88, iter 0 = 3.0686917304992676\n"
     ]
    },
    {
     "name": "stderr",
     "output_type": "stream",
     "text": [
      "\r",
      " 89%|████████▉ | 89/100 [05:09<00:35,  3.26s/it]"
     ]
    },
    {
     "name": "stdout",
     "output_type": "stream",
     "text": [
      "Discriminator Loss at epoch: 89, iter 0 = 0.09044603258371353\n",
      "Generator Loss at epoch: 89, iter 0 = 3.150761365890503\n"
     ]
    },
    {
     "name": "stderr",
     "output_type": "stream",
     "text": [
      "\r",
      " 90%|█████████ | 90/100 [05:14<00:38,  3.83s/it]"
     ]
    },
    {
     "name": "stdout",
     "output_type": "stream",
     "text": [
      "Discriminator Loss at epoch: 90, iter 0 = 0.09251381456851959\n",
      "Generator Loss at epoch: 90, iter 0 = 3.0331296920776367\n"
     ]
    },
    {
     "name": "stderr",
     "output_type": "stream",
     "text": [
      "\r",
      " 91%|█████████ | 91/100 [05:17<00:32,  3.58s/it]"
     ]
    },
    {
     "name": "stdout",
     "output_type": "stream",
     "text": [
      "Discriminator Loss at epoch: 91, iter 0 = 0.09085886925458908\n",
      "Generator Loss at epoch: 91, iter 0 = 3.0104384422302246\n"
     ]
    },
    {
     "name": "stderr",
     "output_type": "stream",
     "text": [
      "\r",
      " 92%|█████████▏| 92/100 [05:20<00:26,  3.36s/it]"
     ]
    },
    {
     "name": "stdout",
     "output_type": "stream",
     "text": [
      "Discriminator Loss at epoch: 92, iter 0 = 0.08171643316745758\n",
      "Generator Loss at epoch: 92, iter 0 = 3.361034631729126\n"
     ]
    },
    {
     "name": "stderr",
     "output_type": "stream",
     "text": [
      "\r",
      " 93%|█████████▎| 93/100 [05:25<00:26,  3.80s/it]"
     ]
    },
    {
     "name": "stdout",
     "output_type": "stream",
     "text": [
      "Discriminator Loss at epoch: 93, iter 0 = 0.08801104128360748\n",
      "Generator Loss at epoch: 93, iter 0 = 2.9487874507904053\n"
     ]
    },
    {
     "name": "stderr",
     "output_type": "stream",
     "text": [
      "\r",
      " 94%|█████████▍| 94/100 [05:28<00:22,  3.68s/it]"
     ]
    },
    {
     "name": "stdout",
     "output_type": "stream",
     "text": [
      "Discriminator Loss at epoch: 94, iter 0 = 0.08640977740287781\n",
      "Generator Loss at epoch: 94, iter 0 = 3.0034847259521484\n"
     ]
    },
    {
     "name": "stderr",
     "output_type": "stream",
     "text": [
      "\r",
      " 95%|█████████▌| 95/100 [05:31<00:17,  3.44s/it]"
     ]
    },
    {
     "name": "stdout",
     "output_type": "stream",
     "text": [
      "Discriminator Loss at epoch: 95, iter 0 = 0.09495746344327927\n",
      "Generator Loss at epoch: 95, iter 0 = 3.261610507965088\n"
     ]
    },
    {
     "name": "stderr",
     "output_type": "stream",
     "text": [
      "\r",
      " 96%|█████████▌| 96/100 [05:34<00:13,  3.32s/it]"
     ]
    },
    {
     "name": "stdout",
     "output_type": "stream",
     "text": [
      "Discriminator Loss at epoch: 96, iter 0 = 0.08414603024721146\n",
      "Generator Loss at epoch: 96, iter 0 = 3.165327310562134\n"
     ]
    },
    {
     "name": "stderr",
     "output_type": "stream",
     "text": [
      "\r",
      " 97%|█████████▋| 97/100 [05:39<00:11,  3.71s/it]"
     ]
    },
    {
     "name": "stdout",
     "output_type": "stream",
     "text": [
      "Discriminator Loss at epoch: 97, iter 0 = 0.07068724930286407\n",
      "Generator Loss at epoch: 97, iter 0 = 3.2845377922058105\n"
     ]
    },
    {
     "name": "stderr",
     "output_type": "stream",
     "text": [
      "\r",
      " 98%|█████████▊| 98/100 [05:42<00:07,  3.55s/it]"
     ]
    },
    {
     "name": "stdout",
     "output_type": "stream",
     "text": [
      "Discriminator Loss at epoch: 98, iter 0 = 0.07242685556411743\n",
      "Generator Loss at epoch: 98, iter 0 = 3.281111240386963\n"
     ]
    },
    {
     "name": "stderr",
     "output_type": "stream",
     "text": [
      "\r",
      " 99%|█████████▉| 99/100 [05:45<00:03,  3.43s/it]"
     ]
    },
    {
     "name": "stdout",
     "output_type": "stream",
     "text": [
      "Discriminator Loss at epoch: 99, iter 0 = 0.07423306256532669\n",
      "Generator Loss at epoch: 99, iter 0 = 3.336130380630493\n"
     ]
    },
    {
     "name": "stderr",
     "output_type": "stream",
     "text": [
      "100%|██████████| 100/100 [05:50<00:00,  3.77s/it]\n"
     ]
    }
   ],
   "source": [
    "hp1 = HyperParameter(\n",
    "    latent_sz=100,\n",
    "    in_img_size=64,\n",
    "    in_img_channel=3,\n",
    "    output_dir=\"../generated_imgs\",\n",
    "    lr=0.0002,\n",
    "    beta1=0.5,\n",
    "    epochs=100,\n",
    "    batch_sz=64,\n",
    ")\n",
    "small_dataset = get_data_loader(\"../mini_data/\")\n",
    "g1 = GAN(hp1)\n",
    "g1.fit(small_dataset)"
   ]
  },
  {
   "cell_type": "markdown",
   "metadata": {},
   "source": [
    "### Plotting its loss function"
   ]
  },
  {
   "cell_type": "code",
   "execution_count": 34,
   "metadata": {
    "ExecuteTime": {
     "end_time": "2020-04-28T18:34:13.042808Z",
     "start_time": "2020-04-28T18:34:12.879954Z"
    }
   },
   "outputs": [
    {
     "data": {
      "image/png": "[encoded data removed]",
      "text/plain": [
       "<Figure size 432x288 with 1 Axes>"
      ]
     },
     "metadata": {
      "needs_background": "light"
     },
     "output_type": "display_data"
    }
   ],
   "source": [
    "g1.plot_loss()"
   ]
  },
  {
   "cell_type": "markdown",
   "metadata": {},
   "source": [
    "## Training our model on the full dataset with our GAN class"
   ]
  },
  {
   "cell_type": "code",
   "execution_count": null,
   "metadata": {
    "ExecuteTime": {
     "start_time": "2020-04-27T20:17:14.047Z"
    }
   },
   "outputs": [
    {
     "name": "stdout",
     "output_type": "stream",
     "text": [
      "Loading weight ../discriminator_trained_weights/gnet_epoch_99_iter_0.pt for Discriminator\n",
      "Loading weight ../generator_trained_weights/gnet_epoch_99_iter_0.pt for Generator\n"
     ]
    },
    {
     "name": "stderr",
     "output_type": "stream",
     "text": [
      "\r",
      "  0%|          | 0/10 [00:00<?, ?it/s]"
     ]
    },
    {
     "name": "stdout",
     "output_type": "stream",
     "text": [
      "Discriminator Loss at epoch: 0, iter 0 = 5.247557163238525\n",
      "Generator Loss at epoch: 0, iter 0 = 2.0506749153137207\n",
      "Discriminator Loss at epoch: 0, iter 10 = 1.515386939048767\n",
      "Generator Loss at epoch: 0, iter 10 = 2.3940327167510986\n",
      "Discriminator Loss at epoch: 0, iter 20 = 2.300029993057251\n",
      "Generator Loss at epoch: 0, iter 20 = 2.831777572631836\n",
      "Discriminator Loss at epoch: 0, iter 30 = 1.5384464263916016\n",
      "Generator Loss at epoch: 0, iter 30 = 2.732119560241699\n",
      "Discriminator Loss at epoch: 0, iter 40 = 1.167539358139038\n",
      "Generator Loss at epoch: 0, iter 40 = 3.831724166870117\n"
     ]
    }
   ],
   "source": [
    "# WARNING: Big dataset is huge, so should use fewer epochs\n",
    "hp2 = HyperParameter(\n",
    "    latent_sz=100,\n",
    "    in_img_size=64,\n",
    "    in_img_channel=3,\n",
    "    output_dir=\"../generated_imgs\",\n",
    "    lr=0.0002,\n",
    "    beta1=0.5,\n",
    "    epochs=10,\n",
    "    batch_sz=64,\n",
    ")\n",
    "big_dataset = get_data_loader(\"../data/img_align_celeba/\")\n",
    "g2 = GAN(hp2)\n",
    "g2.fit(big_dataset)"
   ]
  },
  {
   "cell_type": "markdown",
   "metadata": {},
   "source": [
    "### Plotting its loss function"
   ]
  },
  {
   "cell_type": "code",
   "execution_count": null,
   "metadata": {
    "ExecuteTime": {
     "start_time": "2020-04-27T20:18:14.968Z"
    }
   },
   "outputs": [],
   "source": [
    "g2.plot_loss()"
   ]
  },
  {
   "cell_type": "code",
   "execution_count": null,
   "metadata": {},
   "outputs": [],
   "source": []
  }
 ],
 "metadata": {
  "hide_input": false,
  "kernelspec": {
   "display_name": "Python 3",
   "language": "python",
   "name": "python3"
  },
  "language_info": {
   "codemirror_mode": {
    "name": "ipython",
    "version": 3
   },
   "file_extension": ".py",
   "mimetype": "text/x-python",
   "name": "python",
   "nbconvert_exporter": "python",
   "pygments_lexer": "ipython3",
   "version": "3.7.6"
  },
  "toc": {
   "base_numbering": 1,
   "nav_menu": {},
   "number_sections": true,
   "sideBar": true,
   "skip_h1_title": false,
   "title_cell": "Table of Contents",
   "title_sidebar": "Contents",
   "toc_cell": false,
   "toc_position": {},
   "toc_section_display": true,
   "toc_window_display": false
  }
 },
 "nbformat": 4,
 "nbformat_minor": 2
}
